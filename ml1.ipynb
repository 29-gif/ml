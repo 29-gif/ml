{
 "cells": [
  {
   "cell_type": "markdown",
   "id": "f579ce6b",
   "metadata": {},
   "source": [
    "# Datasets:(to find a datasets)\n",
    "kaggle|UCI Machine Learning Repository(Mostly cleaned data) | amazon dataset|Googles data search engine |Microsoft Datasets| awesome public datasets collection(github) |scikit-learn dataset |\n",
    "computer visionn datasets(imageprocessing|deep learning)| government datasets|"
   ]
  },
  {
   "cell_type": "markdown",
   "id": "d2588c9b",
   "metadata": {},
   "source": [
    "# AI > ML. >DL"
   ]
  },
  {
   "cell_type": "code",
   "execution_count": null,
   "id": "4ad86dcc",
   "metadata": {},
   "outputs": [],
   "source": [
    "# Types of Supervised ML Algorithms(we will use labeled datasets only)\n",
    "'''Regression:(output will be numerical values)\n",
    "    Linear Regression with single variable\n",
    "    Linear Regression with Multiple  variable\n",
    "    Polynomial Regression\n",
    "    Regression Trees\n",
    "Classification:(output will be -yes/no in/out black/white Male/female true/false right/wrong)\n",
    "    Random Forest\n",
    "    Decision Tree\n",
    "    KNN\n",
    "    Logistic Regression(binary Classification=yes/no in/out black/white Male/female true/false right/wrong)\n",
    "    Logistic Regression(multiclass Classification= lily/rose/sunflower true/false/notgiven potato/tomato/onion)\n",
    "    Support vector Machines\n",
    "    naive bayes\n",
    "    '''"
   ]
  },
  {
   "cell_type": "code",
   "execution_count": null,
   "id": "2214c042",
   "metadata": {},
   "outputs": [],
   "source": [
    "# Types of UnSupervised ML Algorithms(we will use unlabeled datasets only)\n",
    "Clustering(group of bachhe->achhe bachee/nahi acche bache)\n",
    "Association(if buy iphone he is going to buy iphone case)\n",
    "\n",
    "'''\n",
    "kmeans clustering\n",
    "hierarchical clustering\n",
    "neural networks/deep learning\n",
    "single value decomposition \n",
    "Distribution models\n",
    "principal component analysis\n",
    "apriori algorithm\n",
    "\n",
    "'''\n"
   ]
  },
  {
   "cell_type": "code",
   "execution_count": null,
   "id": "244afc7d",
   "metadata": {},
   "outputs": [],
   "source": [
    "#types of reinforcement ML (computer game=chess it will change output according to ours move,it try learn and win .)"
   ]
  }
 ],
 "metadata": {
  "kernelspec": {
   "display_name": "Python 3 (ipykernel)",
   "language": "python",
   "name": "python3"
  },
  "language_info": {
   "codemirror_mode": {
    "name": "ipython",
    "version": 3
   },
   "file_extension": ".py",
   "mimetype": "text/x-python",
   "name": "python",
   "nbconvert_exporter": "python",
   "pygments_lexer": "ipython3",
   "version": "3.11.5"
  }
 },
 "nbformat": 4,
 "nbformat_minor": 5
}
