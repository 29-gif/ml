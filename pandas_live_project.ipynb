{
 "cells": [
  {
   "cell_type": "markdown",
   "id": "eadefe69",
   "metadata": {},
   "source": [
    "# Data Cleaning"
   ]
  },
  {
   "cell_type": "markdown",
   "id": "aca5e009",
   "metadata": {},
   "source": [
    "# Data Cleaning For DA\n",
    "=>Hadling Missing Data\n",
    "\n",
    "=>standardizing data formats\n",
    "\n",
    "=>filter unwanted outliers\n",
    "\n",
    "=>handling duplicates"
   ]
  },
  {
   "cell_type": "code",
   "execution_count": 210,
   "id": "4d2edad5",
   "metadata": {},
   "outputs": [],
   "source": [
    "from matplotlib import pyplot as plt \n",
    "import seaborn as sns\n",
    "import pandas as pd\n",
    "import numpy as np"
   ]
  },
  {
   "cell_type": "code",
   "execution_count": 211,
   "id": "dc789ace",
   "metadata": {},
   "outputs": [
    {
     "data": {
      "text/html": [
       "<div>\n",
       "<style scoped>\n",
       "    .dataframe tbody tr th:only-of-type {\n",
       "        vertical-align: middle;\n",
       "    }\n",
       "\n",
       "    .dataframe tbody tr th {\n",
       "        vertical-align: top;\n",
       "    }\n",
       "\n",
       "    .dataframe thead th {\n",
       "        text-align: right;\n",
       "    }\n",
       "</style>\n",
       "<table border=\"1\" class=\"dataframe\">\n",
       "  <thead>\n",
       "    <tr style=\"text-align: right;\">\n",
       "      <th></th>\n",
       "      <th>Column1</th>\n",
       "      <th>car_name</th>\n",
       "      <th>car_prices_in_rupee</th>\n",
       "      <th>kms_driven</th>\n",
       "      <th>fuel_type</th>\n",
       "      <th>transmission</th>\n",
       "      <th>ownership</th>\n",
       "      <th>manufacture</th>\n",
       "      <th>engine</th>\n",
       "      <th>Seats</th>\n",
       "    </tr>\n",
       "  </thead>\n",
       "  <tbody>\n",
       "    <tr>\n",
       "      <th>0</th>\n",
       "      <td>0</td>\n",
       "      <td>Jeep Compass 2.0 Longitude Option BSIV</td>\n",
       "      <td>10.03 Lakh</td>\n",
       "      <td>86,226 kms</td>\n",
       "      <td>Diesel</td>\n",
       "      <td>Manual</td>\n",
       "      <td>1st Owner</td>\n",
       "      <td>2017.0</td>\n",
       "      <td>1956 cc</td>\n",
       "      <td>5 Seats</td>\n",
       "    </tr>\n",
       "  </tbody>\n",
       "</table>\n",
       "</div>"
      ],
      "text/plain": [
       "   Column1                                car_name car_prices_in_rupee  \\\n",
       "0        0  Jeep Compass 2.0 Longitude Option BSIV          10.03 Lakh   \n",
       "\n",
       "   kms_driven fuel_type transmission  ownership  manufacture   engine    Seats  \n",
       "0  86,226 kms    Diesel       Manual  1st Owner       2017.0  1956 cc  5 Seats  "
      ]
     },
     "execution_count": 211,
     "metadata": {},
     "output_type": "execute_result"
    }
   ],
   "source": [
    "dataset = pd.read_csv('car_price.csv')\n",
    "dataset.head(1)\n"
   ]
  },
  {
   "cell_type": "code",
   "execution_count": 212,
   "id": "5cf6c74d",
   "metadata": {},
   "outputs": [
    {
     "data": {
      "text/plain": [
       "(5512, 10)"
      ]
     },
     "execution_count": 212,
     "metadata": {},
     "output_type": "execute_result"
    }
   ],
   "source": [
    "dataset.shape #to find overall data(numberof rows,number of columns)"
   ]
  },
  {
   "cell_type": "code",
   "execution_count": 213,
   "id": "a19f0c91",
   "metadata": {},
   "outputs": [
    {
     "name": "stdout",
     "output_type": "stream",
     "text": [
      "<class 'pandas.core.frame.DataFrame'>\n",
      "RangeIndex: 5512 entries, 0 to 5511\n",
      "Data columns (total 10 columns):\n",
      " #   Column               Non-Null Count  Dtype  \n",
      "---  ------               --------------  -----  \n",
      " 0   Column1              5512 non-null   int64  \n",
      " 1   car_name             5512 non-null   object \n",
      " 2   car_prices_in_rupee  5507 non-null   object \n",
      " 3   kms_driven           5510 non-null   object \n",
      " 4   fuel_type            5508 non-null   object \n",
      " 5   transmission         5509 non-null   object \n",
      " 6   ownership            5510 non-null   object \n",
      " 7   manufacture          5510 non-null   float64\n",
      " 8   engine               5510 non-null   object \n",
      " 9   Seats                5510 non-null   object \n",
      "dtypes: float64(1), int64(1), object(8)\n",
      "memory usage: 430.8+ KB\n"
     ]
    }
   ],
   "source": [
    "dataset.info() #to check the datatype of each column"
   ]
  },
  {
   "cell_type": "code",
   "execution_count": 214,
   "id": "d5422a11",
   "metadata": {},
   "outputs": [
    {
     "data": {
      "text/html": [
       "<div>\n",
       "<style scoped>\n",
       "    .dataframe tbody tr th:only-of-type {\n",
       "        vertical-align: middle;\n",
       "    }\n",
       "\n",
       "    .dataframe tbody tr th {\n",
       "        vertical-align: top;\n",
       "    }\n",
       "\n",
       "    .dataframe thead th {\n",
       "        text-align: right;\n",
       "    }\n",
       "</style>\n",
       "<table border=\"1\" class=\"dataframe\">\n",
       "  <thead>\n",
       "    <tr style=\"text-align: right;\">\n",
       "      <th></th>\n",
       "      <th>Column1</th>\n",
       "      <th>car_name</th>\n",
       "      <th>car_prices_in_rupee</th>\n",
       "      <th>kms_driven</th>\n",
       "      <th>fuel_type</th>\n",
       "      <th>transmission</th>\n",
       "      <th>ownership</th>\n",
       "      <th>manufacture</th>\n",
       "      <th>engine</th>\n",
       "      <th>Seats</th>\n",
       "    </tr>\n",
       "  </thead>\n",
       "  <tbody>\n",
       "    <tr>\n",
       "      <th>0</th>\n",
       "      <td>False</td>\n",
       "      <td>False</td>\n",
       "      <td>False</td>\n",
       "      <td>False</td>\n",
       "      <td>False</td>\n",
       "      <td>False</td>\n",
       "      <td>False</td>\n",
       "      <td>False</td>\n",
       "      <td>False</td>\n",
       "      <td>False</td>\n",
       "    </tr>\n",
       "    <tr>\n",
       "      <th>1</th>\n",
       "      <td>False</td>\n",
       "      <td>False</td>\n",
       "      <td>False</td>\n",
       "      <td>False</td>\n",
       "      <td>False</td>\n",
       "      <td>False</td>\n",
       "      <td>False</td>\n",
       "      <td>False</td>\n",
       "      <td>False</td>\n",
       "      <td>False</td>\n",
       "    </tr>\n",
       "    <tr>\n",
       "      <th>2</th>\n",
       "      <td>False</td>\n",
       "      <td>False</td>\n",
       "      <td>False</td>\n",
       "      <td>False</td>\n",
       "      <td>False</td>\n",
       "      <td>False</td>\n",
       "      <td>False</td>\n",
       "      <td>False</td>\n",
       "      <td>False</td>\n",
       "      <td>False</td>\n",
       "    </tr>\n",
       "    <tr>\n",
       "      <th>3</th>\n",
       "      <td>False</td>\n",
       "      <td>False</td>\n",
       "      <td>False</td>\n",
       "      <td>False</td>\n",
       "      <td>False</td>\n",
       "      <td>False</td>\n",
       "      <td>False</td>\n",
       "      <td>False</td>\n",
       "      <td>False</td>\n",
       "      <td>False</td>\n",
       "    </tr>\n",
       "    <tr>\n",
       "      <th>4</th>\n",
       "      <td>False</td>\n",
       "      <td>False</td>\n",
       "      <td>False</td>\n",
       "      <td>False</td>\n",
       "      <td>False</td>\n",
       "      <td>False</td>\n",
       "      <td>False</td>\n",
       "      <td>False</td>\n",
       "      <td>False</td>\n",
       "      <td>False</td>\n",
       "    </tr>\n",
       "    <tr>\n",
       "      <th>...</th>\n",
       "      <td>...</td>\n",
       "      <td>...</td>\n",
       "      <td>...</td>\n",
       "      <td>...</td>\n",
       "      <td>...</td>\n",
       "      <td>...</td>\n",
       "      <td>...</td>\n",
       "      <td>...</td>\n",
       "      <td>...</td>\n",
       "      <td>...</td>\n",
       "    </tr>\n",
       "    <tr>\n",
       "      <th>5507</th>\n",
       "      <td>False</td>\n",
       "      <td>False</td>\n",
       "      <td>False</td>\n",
       "      <td>False</td>\n",
       "      <td>False</td>\n",
       "      <td>False</td>\n",
       "      <td>False</td>\n",
       "      <td>False</td>\n",
       "      <td>False</td>\n",
       "      <td>False</td>\n",
       "    </tr>\n",
       "    <tr>\n",
       "      <th>5508</th>\n",
       "      <td>False</td>\n",
       "      <td>False</td>\n",
       "      <td>False</td>\n",
       "      <td>False</td>\n",
       "      <td>False</td>\n",
       "      <td>False</td>\n",
       "      <td>False</td>\n",
       "      <td>False</td>\n",
       "      <td>False</td>\n",
       "      <td>False</td>\n",
       "    </tr>\n",
       "    <tr>\n",
       "      <th>5509</th>\n",
       "      <td>False</td>\n",
       "      <td>False</td>\n",
       "      <td>False</td>\n",
       "      <td>False</td>\n",
       "      <td>False</td>\n",
       "      <td>False</td>\n",
       "      <td>False</td>\n",
       "      <td>False</td>\n",
       "      <td>False</td>\n",
       "      <td>False</td>\n",
       "    </tr>\n",
       "    <tr>\n",
       "      <th>5510</th>\n",
       "      <td>False</td>\n",
       "      <td>False</td>\n",
       "      <td>False</td>\n",
       "      <td>False</td>\n",
       "      <td>False</td>\n",
       "      <td>False</td>\n",
       "      <td>False</td>\n",
       "      <td>False</td>\n",
       "      <td>False</td>\n",
       "      <td>False</td>\n",
       "    </tr>\n",
       "    <tr>\n",
       "      <th>5511</th>\n",
       "      <td>False</td>\n",
       "      <td>False</td>\n",
       "      <td>False</td>\n",
       "      <td>False</td>\n",
       "      <td>False</td>\n",
       "      <td>False</td>\n",
       "      <td>False</td>\n",
       "      <td>False</td>\n",
       "      <td>False</td>\n",
       "      <td>False</td>\n",
       "    </tr>\n",
       "  </tbody>\n",
       "</table>\n",
       "<p>5512 rows × 10 columns</p>\n",
       "</div>"
      ],
      "text/plain": [
       "      Column1  car_name  car_prices_in_rupee  kms_driven  fuel_type  \\\n",
       "0       False     False                False       False      False   \n",
       "1       False     False                False       False      False   \n",
       "2       False     False                False       False      False   \n",
       "3       False     False                False       False      False   \n",
       "4       False     False                False       False      False   \n",
       "...       ...       ...                  ...         ...        ...   \n",
       "5507    False     False                False       False      False   \n",
       "5508    False     False                False       False      False   \n",
       "5509    False     False                False       False      False   \n",
       "5510    False     False                False       False      False   \n",
       "5511    False     False                False       False      False   \n",
       "\n",
       "      transmission  ownership  manufacture  engine  Seats  \n",
       "0            False      False        False   False  False  \n",
       "1            False      False        False   False  False  \n",
       "2            False      False        False   False  False  \n",
       "3            False      False        False   False  False  \n",
       "4            False      False        False   False  False  \n",
       "...            ...        ...          ...     ...    ...  \n",
       "5507         False      False        False   False  False  \n",
       "5508         False      False        False   False  False  \n",
       "5509         False      False        False   False  False  \n",
       "5510         False      False        False   False  False  \n",
       "5511         False      False        False   False  False  \n",
       "\n",
       "[5512 rows x 10 columns]"
      ]
     },
     "execution_count": 214,
     "metadata": {},
     "output_type": "execute_result"
    }
   ],
   "source": [
    "#Hadling Missing Data\n",
    "\n",
    "dataset.isnull() #to find missing data if false=>there is a values ,but if true=>there is a missing content"
   ]
  },
  {
   "cell_type": "code",
   "execution_count": 215,
   "id": "c3bd12a1",
   "metadata": {},
   "outputs": [
    {
     "data": {
      "text/plain": [
       "Column1                0\n",
       "car_name               0\n",
       "car_prices_in_rupee    5\n",
       "kms_driven             2\n",
       "fuel_type              4\n",
       "transmission           3\n",
       "ownership              2\n",
       "manufacture            2\n",
       "engine                 2\n",
       "Seats                  2\n",
       "dtype: int64"
      ]
     },
     "execution_count": 215,
     "metadata": {},
     "output_type": "execute_result"
    }
   ],
   "source": [
    "dataset.isnull().sum() #it will give which column has missing content ,like how many rows has missing content in particular column"
   ]
  },
  {
   "cell_type": "code",
   "execution_count": 216,
   "id": "0734a03c",
   "metadata": {},
   "outputs": [
    {
     "data": {
      "text/plain": [
       "Column1                0.000000\n",
       "car_name               0.000000\n",
       "car_prices_in_rupee    0.090711\n",
       "kms_driven             0.036284\n",
       "fuel_type              0.072569\n",
       "transmission           0.054427\n",
       "ownership              0.036284\n",
       "manufacture            0.036284\n",
       "engine                 0.036284\n",
       "Seats                  0.036284\n",
       "dtype: float64"
      ]
     },
     "execution_count": 216,
     "metadata": {},
     "output_type": "execute_result"
    }
   ],
   "source": [
    "(dataset.isnull().sum()/dataset.shape[0])*100 #to see how many percentage of data is missing in particular column "
   ]
  },
  {
   "cell_type": "code",
   "execution_count": 217,
   "id": "d95a54ee",
   "metadata": {},
   "outputs": [],
   "source": [
    "#remove the missing data\n",
    "dataset.dropna(inplace=True)"
   ]
  },
  {
   "cell_type": "code",
   "execution_count": 218,
   "id": "9eb3f872",
   "metadata": {},
   "outputs": [
    {
     "data": {
      "text/plain": [
       "Column1                0\n",
       "car_name               0\n",
       "car_prices_in_rupee    0\n",
       "kms_driven             0\n",
       "fuel_type              0\n",
       "transmission           0\n",
       "ownership              0\n",
       "manufacture            0\n",
       "engine                 0\n",
       "Seats                  0\n",
       "dtype: int64"
      ]
     },
     "execution_count": 218,
     "metadata": {},
     "output_type": "execute_result"
    }
   ],
   "source": [
    "dataset.isnull().sum()"
   ]
  },
  {
   "cell_type": "markdown",
   "id": "090066f8",
   "metadata": {},
   "source": [
    "# problems with car_name"
   ]
  },
  {
   "cell_type": "code",
   "execution_count": 219,
   "id": "910febd7",
   "metadata": {},
   "outputs": [
    {
     "data": {
      "text/plain": [
       "0       Jeep Compass 2.0 Longitude Option BSIV\n",
       "1                 Renault Duster RXZ Turbo CVT\n",
       "2                           Toyota Camry 2.5 G\n",
       "3                            Honda Jazz VX CVT\n",
       "4             Volkswagen Polo 1.2 MPI Highline\n",
       "                         ...                  \n",
       "5507                   BMW X1 sDrive 20d xLine\n",
       "5508                     BMW M Series M4 Coupe\n",
       "5509                Jaguar XF 2.2 Litre Luxury\n",
       "5510                        BMW 7 Series 730Ld\n",
       "5511                 BMW 5 Series 520d M Sport\n",
       "Name: car_name, Length: 5491, dtype: object"
      ]
     },
     "execution_count": 219,
     "metadata": {},
     "output_type": "execute_result"
    }
   ],
   "source": [
    "#to get car_name rows value\n",
    "dataset['car_name']"
   ]
  },
  {
   "cell_type": "code",
   "execution_count": 220,
   "id": "9d479b7f",
   "metadata": {},
   "outputs": [
    {
     "data": {
      "text/plain": [
       "'Jeep Compass 2.0 Longitude Option BSIV'"
      ]
     },
     "execution_count": 220,
     "metadata": {},
     "output_type": "execute_result"
    }
   ],
   "source": [
    "#to get car_name rows value at [0]index\n",
    "dataset['car_name'][0]"
   ]
  },
  {
   "cell_type": "code",
   "execution_count": 221,
   "id": "27836f26",
   "metadata": {},
   "outputs": [
    {
     "data": {
      "text/plain": [
       "'Jeep'"
      ]
     },
     "execution_count": 221,
     "metadata": {},
     "output_type": "execute_result"
    }
   ],
   "source": [
    "#for single value\n",
    "x=dataset['car_name'][0]\n",
    "x[:x.index(\" \")]"
   ]
  },
  {
   "cell_type": "code",
   "execution_count": 222,
   "id": "76659d2a",
   "metadata": {},
   "outputs": [],
   "source": [
    "#for whole column get company name of car\n",
    "def company_name(x):\n",
    "    return x[:x.index(\" \")]"
   ]
  },
  {
   "cell_type": "code",
   "execution_count": 223,
   "id": "b67ce55a",
   "metadata": {},
   "outputs": [
    {
     "data": {
      "text/plain": [
       "0             Jeep\n",
       "1          Renault\n",
       "2           Toyota\n",
       "3            Honda\n",
       "4       Volkswagen\n",
       "           ...    \n",
       "5507           BMW\n",
       "5508           BMW\n",
       "5509        Jaguar\n",
       "5510           BMW\n",
       "5511           BMW\n",
       "Name: car_name, Length: 5491, dtype: object"
      ]
     },
     "execution_count": 223,
     "metadata": {},
     "output_type": "execute_result"
    }
   ],
   "source": [
    "dataset['car_name'].apply(company_name)"
   ]
  },
  {
   "cell_type": "code",
   "execution_count": 224,
   "id": "497dde74",
   "metadata": {},
   "outputs": [],
   "source": [
    "\n",
    "dataset['company_name']=dataset['car_name'].apply(company_name)"
   ]
  },
  {
   "cell_type": "code",
   "execution_count": 225,
   "id": "7ff58477",
   "metadata": {},
   "outputs": [
    {
     "data": {
      "text/html": [
       "<div>\n",
       "<style scoped>\n",
       "    .dataframe tbody tr th:only-of-type {\n",
       "        vertical-align: middle;\n",
       "    }\n",
       "\n",
       "    .dataframe tbody tr th {\n",
       "        vertical-align: top;\n",
       "    }\n",
       "\n",
       "    .dataframe thead th {\n",
       "        text-align: right;\n",
       "    }\n",
       "</style>\n",
       "<table border=\"1\" class=\"dataframe\">\n",
       "  <thead>\n",
       "    <tr style=\"text-align: right;\">\n",
       "      <th></th>\n",
       "      <th>Column1</th>\n",
       "      <th>car_name</th>\n",
       "      <th>car_prices_in_rupee</th>\n",
       "      <th>kms_driven</th>\n",
       "      <th>fuel_type</th>\n",
       "      <th>transmission</th>\n",
       "      <th>ownership</th>\n",
       "      <th>manufacture</th>\n",
       "      <th>engine</th>\n",
       "      <th>Seats</th>\n",
       "      <th>company_name</th>\n",
       "    </tr>\n",
       "  </thead>\n",
       "  <tbody>\n",
       "    <tr>\n",
       "      <th>0</th>\n",
       "      <td>0</td>\n",
       "      <td>Jeep Compass 2.0 Longitude Option BSIV</td>\n",
       "      <td>10.03 Lakh</td>\n",
       "      <td>86,226 kms</td>\n",
       "      <td>Diesel</td>\n",
       "      <td>Manual</td>\n",
       "      <td>1st Owner</td>\n",
       "      <td>2017.0</td>\n",
       "      <td>1956 cc</td>\n",
       "      <td>5 Seats</td>\n",
       "      <td>Jeep</td>\n",
       "    </tr>\n",
       "  </tbody>\n",
       "</table>\n",
       "</div>"
      ],
      "text/plain": [
       "   Column1                                car_name car_prices_in_rupee  \\\n",
       "0        0  Jeep Compass 2.0 Longitude Option BSIV          10.03 Lakh   \n",
       "\n",
       "   kms_driven fuel_type transmission  ownership  manufacture   engine  \\\n",
       "0  86,226 kms    Diesel       Manual  1st Owner       2017.0  1956 cc   \n",
       "\n",
       "     Seats company_name  \n",
       "0  5 Seats         Jeep  "
      ]
     },
     "execution_count": 225,
     "metadata": {},
     "output_type": "execute_result"
    }
   ],
   "source": [
    "dataset.head(1)"
   ]
  },
  {
   "cell_type": "code",
   "execution_count": 226,
   "id": "5732cd88",
   "metadata": {},
   "outputs": [],
   "source": [
    "def car_name(x):\n",
    "    return x[x.index(\" \")+1:]"
   ]
  },
  {
   "cell_type": "code",
   "execution_count": 227,
   "id": "8cda6105",
   "metadata": {},
   "outputs": [],
   "source": [
    "\n",
    "dataset['car_name']=dataset['car_name'].apply(car_name)"
   ]
  },
  {
   "cell_type": "code",
   "execution_count": 144,
   "id": "6dd683cb",
   "metadata": {},
   "outputs": [
    {
     "data": {
      "text/html": [
       "<div>\n",
       "<style scoped>\n",
       "    .dataframe tbody tr th:only-of-type {\n",
       "        vertical-align: middle;\n",
       "    }\n",
       "\n",
       "    .dataframe tbody tr th {\n",
       "        vertical-align: top;\n",
       "    }\n",
       "\n",
       "    .dataframe thead th {\n",
       "        text-align: right;\n",
       "    }\n",
       "</style>\n",
       "<table border=\"1\" class=\"dataframe\">\n",
       "  <thead>\n",
       "    <tr style=\"text-align: right;\">\n",
       "      <th></th>\n",
       "      <th>Column1</th>\n",
       "      <th>car_name</th>\n",
       "      <th>car_prices_in_rupee</th>\n",
       "      <th>kms_driven</th>\n",
       "      <th>fuel_type</th>\n",
       "      <th>transmission</th>\n",
       "      <th>ownership</th>\n",
       "      <th>manufacture</th>\n",
       "      <th>engine</th>\n",
       "      <th>Seats</th>\n",
       "      <th>company_name</th>\n",
       "    </tr>\n",
       "  </thead>\n",
       "  <tbody>\n",
       "    <tr>\n",
       "      <th>0</th>\n",
       "      <td>0</td>\n",
       "      <td>Compass 2.0 Longitude Option BSIV</td>\n",
       "      <td>10.03 Lakh</td>\n",
       "      <td>86,226 kms</td>\n",
       "      <td>Diesel</td>\n",
       "      <td>Manual</td>\n",
       "      <td>1st Owner</td>\n",
       "      <td>2017.0</td>\n",
       "      <td>1956 cc</td>\n",
       "      <td>5 Seats</td>\n",
       "      <td>Jeep</td>\n",
       "    </tr>\n",
       "  </tbody>\n",
       "</table>\n",
       "</div>"
      ],
      "text/plain": [
       "   Column1                           car_name car_prices_in_rupee  kms_driven  \\\n",
       "0        0  Compass 2.0 Longitude Option BSIV          10.03 Lakh  86,226 kms   \n",
       "\n",
       "  fuel_type transmission  ownership  manufacture   engine    Seats  \\\n",
       "0    Diesel       Manual  1st Owner       2017.0  1956 cc  5 Seats   \n",
       "\n",
       "  company_name  \n",
       "0         Jeep  "
      ]
     },
     "execution_count": 144,
     "metadata": {},
     "output_type": "execute_result"
    }
   ],
   "source": [
    "dataset.head(1)"
   ]
  },
  {
   "cell_type": "markdown",
   "id": "c2dce23a",
   "metadata": {},
   "source": [
    "# problems with car_prices_in_rupee"
   ]
  },
  {
   "cell_type": "code",
   "execution_count": 228,
   "id": "ab2898ea",
   "metadata": {},
   "outputs": [
    {
     "data": {
      "text/plain": [
       "0       10.03 Lakh\n",
       "1       12.83 Lakh\n",
       "2       16.40 Lakh\n",
       "3        7.77 Lakh\n",
       "4        5.15 Lakh\n",
       "           ...    \n",
       "5507    28.90 Lakh\n",
       "5508    64.90 Lakh\n",
       "5509    13.75 Lakh\n",
       "5510    29.90 Lakh\n",
       "5511    31.90 Lakh\n",
       "Name: car_prices_in_rupee, Length: 5491, dtype: object"
      ]
     },
     "execution_count": 228,
     "metadata": {},
     "output_type": "execute_result"
    }
   ],
   "source": [
    "dataset['car_prices_in_rupee']"
   ]
  },
  {
   "cell_type": "code",
   "execution_count": 229,
   "id": "0464aa98",
   "metadata": {},
   "outputs": [],
   "source": [
    "\n",
    "#35,000 ,28.90 Lakh ['28.90','Lakh'], 1.02 Crore ['1.02','Crore']\n"
   ]
  },
  {
   "cell_type": "code",
   "execution_count": 230,
   "id": "858a7a52",
   "metadata": {},
   "outputs": [],
   "source": [
    "dataset['car_prices_in_rupee']=dataset['car_prices_in_rupee'].str.replace(',','') ##35,000 removing comma to nothing so we can have pure data or numbers without comma"
   ]
  },
  {
   "cell_type": "code",
   "execution_count": 231,
   "id": "94d2cf07",
   "metadata": {},
   "outputs": [
    {
     "name": "stdout",
     "output_type": "stream",
     "text": [
      "['28.90', 'Lakh']\n",
      "28.90\n",
      "Lakh\n",
      "2890000.0\n"
     ]
    }
   ],
   "source": [
    "#for understanding\n",
    "l='28.90 Lakh'\n",
    "a=l.split(' ')\n",
    "print(a)\n",
    "print(a[0])\n",
    "print(a[1])\n",
    "print(round(float(a[0])*100000,1))"
   ]
  },
  {
   "cell_type": "code",
   "execution_count": 232,
   "id": "098c6656",
   "metadata": {},
   "outputs": [],
   "source": [
    "\n",
    "def rupee_change(x):\n",
    "    p= x.split(' ')\n",
    "    try:\n",
    "        if p[1] == 'Lakh':\n",
    "            return str(round(float(p[0])*100000,1))\n",
    "        elif p[1] == 'Crore':\n",
    "            return str(round(float(p[0])*10000000,1))\n",
    "    except:\n",
    "        return x"
   ]
  },
  {
   "cell_type": "code",
   "execution_count": 233,
   "id": "f3f83cb7",
   "metadata": {},
   "outputs": [
    {
     "data": {
      "text/plain": [
       "0       1003000.0\n",
       "1       1283000.0\n",
       "2       1640000.0\n",
       "3        777000.0\n",
       "4        515000.0\n",
       "          ...    \n",
       "5507    2890000.0\n",
       "5508    6490000.0\n",
       "5509    1375000.0\n",
       "5510    2990000.0\n",
       "5511    3190000.0\n",
       "Name: car_prices_in_rupee, Length: 5491, dtype: object"
      ]
     },
     "execution_count": 233,
     "metadata": {},
     "output_type": "execute_result"
    }
   ],
   "source": [
    "dataset['car_prices_in_rupee'].apply(rupee_change)"
   ]
  },
  {
   "cell_type": "code",
   "execution_count": 234,
   "id": "4ae34bfe",
   "metadata": {},
   "outputs": [],
   "source": [
    "dataset['car_prices_in_rupee']=dataset['car_prices_in_rupee'].apply(rupee_change)"
   ]
  },
  {
   "cell_type": "code",
   "execution_count": 235,
   "id": "b2a9097f",
   "metadata": {},
   "outputs": [
    {
     "name": "stdout",
     "output_type": "stream",
     "text": [
      "<class 'pandas.core.frame.DataFrame'>\n",
      "Index: 5491 entries, 0 to 5511\n",
      "Data columns (total 11 columns):\n",
      " #   Column               Non-Null Count  Dtype  \n",
      "---  ------               --------------  -----  \n",
      " 0   Column1              5491 non-null   int64  \n",
      " 1   car_name             5491 non-null   object \n",
      " 2   car_prices_in_rupee  5368 non-null   object \n",
      " 3   kms_driven           5491 non-null   object \n",
      " 4   fuel_type            5491 non-null   object \n",
      " 5   transmission         5491 non-null   object \n",
      " 6   ownership            5491 non-null   object \n",
      " 7   manufacture          5491 non-null   float64\n",
      " 8   engine               5491 non-null   object \n",
      " 9   Seats                5491 non-null   object \n",
      " 10  company_name         5491 non-null   object \n",
      "dtypes: float64(1), int64(1), object(9)\n",
      "memory usage: 643.8+ KB\n"
     ]
    }
   ],
   "source": [
    "dataset.info()"
   ]
  },
  {
   "cell_type": "code",
   "execution_count": 236,
   "id": "3d0288a3",
   "metadata": {},
   "outputs": [
    {
     "data": {
      "text/plain": [
       "0       1003000.0\n",
       "1       1283000.0\n",
       "2       1640000.0\n",
       "3        777000.0\n",
       "4        515000.0\n",
       "          ...    \n",
       "5507    2890000.0\n",
       "5508    6490000.0\n",
       "5509    1375000.0\n",
       "5510    2990000.0\n",
       "5511    3190000.0\n",
       "Name: car_prices_in_rupee, Length: 5491, dtype: float64"
      ]
     },
     "execution_count": 236,
     "metadata": {},
     "output_type": "execute_result"
    }
   ],
   "source": [
    "#to change datatype\n",
    "dataset['car_prices_in_rupee'].astype('float')"
   ]
  },
  {
   "cell_type": "code",
   "execution_count": 237,
   "id": "2bedcaa6",
   "metadata": {},
   "outputs": [],
   "source": [
    "dataset['car_prices_in_rupee']=dataset['car_prices_in_rupee'].astype('float')"
   ]
  },
  {
   "cell_type": "code",
   "execution_count": 238,
   "id": "391b6284",
   "metadata": {},
   "outputs": [
    {
     "data": {
      "text/html": [
       "<div>\n",
       "<style scoped>\n",
       "    .dataframe tbody tr th:only-of-type {\n",
       "        vertical-align: middle;\n",
       "    }\n",
       "\n",
       "    .dataframe tbody tr th {\n",
       "        vertical-align: top;\n",
       "    }\n",
       "\n",
       "    .dataframe thead th {\n",
       "        text-align: right;\n",
       "    }\n",
       "</style>\n",
       "<table border=\"1\" class=\"dataframe\">\n",
       "  <thead>\n",
       "    <tr style=\"text-align: right;\">\n",
       "      <th></th>\n",
       "      <th>Column1</th>\n",
       "      <th>car_name</th>\n",
       "      <th>car_prices_in_rupee</th>\n",
       "      <th>kms_driven</th>\n",
       "      <th>fuel_type</th>\n",
       "      <th>transmission</th>\n",
       "      <th>ownership</th>\n",
       "      <th>manufacture</th>\n",
       "      <th>engine</th>\n",
       "      <th>Seats</th>\n",
       "      <th>company_name</th>\n",
       "    </tr>\n",
       "  </thead>\n",
       "  <tbody>\n",
       "    <tr>\n",
       "      <th>0</th>\n",
       "      <td>0</td>\n",
       "      <td>Compass 2.0 Longitude Option BSIV</td>\n",
       "      <td>1003000.0</td>\n",
       "      <td>86,226 kms</td>\n",
       "      <td>Diesel</td>\n",
       "      <td>Manual</td>\n",
       "      <td>1st Owner</td>\n",
       "      <td>2017.0</td>\n",
       "      <td>1956 cc</td>\n",
       "      <td>5 Seats</td>\n",
       "      <td>Jeep</td>\n",
       "    </tr>\n",
       "    <tr>\n",
       "      <th>1</th>\n",
       "      <td>1</td>\n",
       "      <td>Duster RXZ Turbo CVT</td>\n",
       "      <td>1283000.0</td>\n",
       "      <td>13,248 kms</td>\n",
       "      <td>Petrol</td>\n",
       "      <td>Automatic</td>\n",
       "      <td>1st Owner</td>\n",
       "      <td>2021.0</td>\n",
       "      <td>1330 cc</td>\n",
       "      <td>5 Seats</td>\n",
       "      <td>Renault</td>\n",
       "    </tr>\n",
       "    <tr>\n",
       "      <th>2</th>\n",
       "      <td>2</td>\n",
       "      <td>Camry 2.5 G</td>\n",
       "      <td>1640000.0</td>\n",
       "      <td>60,343 kms</td>\n",
       "      <td>Petrol</td>\n",
       "      <td>Automatic</td>\n",
       "      <td>1st Owner</td>\n",
       "      <td>2016.0</td>\n",
       "      <td>2494 cc</td>\n",
       "      <td>5 Seats</td>\n",
       "      <td>Toyota</td>\n",
       "    </tr>\n",
       "    <tr>\n",
       "      <th>3</th>\n",
       "      <td>3</td>\n",
       "      <td>Jazz VX CVT</td>\n",
       "      <td>777000.0</td>\n",
       "      <td>26,696 kms</td>\n",
       "      <td>Petrol</td>\n",
       "      <td>Automatic</td>\n",
       "      <td>1st Owner</td>\n",
       "      <td>2018.0</td>\n",
       "      <td>1199 cc</td>\n",
       "      <td>5 Seats</td>\n",
       "      <td>Honda</td>\n",
       "    </tr>\n",
       "    <tr>\n",
       "      <th>4</th>\n",
       "      <td>4</td>\n",
       "      <td>Polo 1.2 MPI Highline</td>\n",
       "      <td>515000.0</td>\n",
       "      <td>69,414 kms</td>\n",
       "      <td>Petrol</td>\n",
       "      <td>Manual</td>\n",
       "      <td>1st Owner</td>\n",
       "      <td>2016.0</td>\n",
       "      <td>1199 cc</td>\n",
       "      <td>5 Seats</td>\n",
       "      <td>Volkswagen</td>\n",
       "    </tr>\n",
       "  </tbody>\n",
       "</table>\n",
       "</div>"
      ],
      "text/plain": [
       "   Column1                           car_name  car_prices_in_rupee  \\\n",
       "0        0  Compass 2.0 Longitude Option BSIV            1003000.0   \n",
       "1        1               Duster RXZ Turbo CVT            1283000.0   \n",
       "2        2                        Camry 2.5 G            1640000.0   \n",
       "3        3                        Jazz VX CVT             777000.0   \n",
       "4        4              Polo 1.2 MPI Highline             515000.0   \n",
       "\n",
       "   kms_driven fuel_type transmission  ownership  manufacture   engine  \\\n",
       "0  86,226 kms    Diesel       Manual  1st Owner       2017.0  1956 cc   \n",
       "1  13,248 kms    Petrol    Automatic  1st Owner       2021.0  1330 cc   \n",
       "2  60,343 kms    Petrol    Automatic  1st Owner       2016.0  2494 cc   \n",
       "3  26,696 kms    Petrol    Automatic  1st Owner       2018.0  1199 cc   \n",
       "4  69,414 kms    Petrol       Manual  1st Owner       2016.0  1199 cc   \n",
       "\n",
       "     Seats company_name  \n",
       "0  5 Seats         Jeep  \n",
       "1  5 Seats      Renault  \n",
       "2  5 Seats       Toyota  \n",
       "3  5 Seats        Honda  \n",
       "4  5 Seats   Volkswagen  "
      ]
     },
     "execution_count": 238,
     "metadata": {},
     "output_type": "execute_result"
    }
   ],
   "source": [
    "dataset.head(5)"
   ]
  },
  {
   "cell_type": "markdown",
   "id": "474c880d",
   "metadata": {},
   "source": [
    "# problems with kms_driven"
   ]
  },
  {
   "cell_type": "code",
   "execution_count": 239,
   "id": "b130c941",
   "metadata": {},
   "outputs": [],
   "source": [
    "dataset['kms_driven']=dataset['kms_driven'].str.replace(',','')\n",
    "dataset['kms_driven']=dataset['kms_driven'].str.replace('kms','')"
   ]
  },
  {
   "cell_type": "code",
   "execution_count": 240,
   "id": "4d35228a",
   "metadata": {},
   "outputs": [
    {
     "data": {
      "text/plain": [
       "0       86226\n",
       "1       13248\n",
       "2       60343\n",
       "3       26696\n",
       "4       69414\n",
       "        ...  \n",
       "5507    45000\n",
       "5508    29000\n",
       "5509    90000\n",
       "5510    79000\n",
       "5511    42000\n",
       "Name: kms_driven, Length: 5491, dtype: int64"
      ]
     },
     "execution_count": 240,
     "metadata": {},
     "output_type": "execute_result"
    }
   ],
   "source": [
    "dataset['kms_driven'].astype('int64')"
   ]
  },
  {
   "cell_type": "markdown",
   "id": "1a5ecf9c",
   "metadata": {},
   "source": [
    "# problems with engine"
   ]
  },
  {
   "cell_type": "code",
   "execution_count": 241,
   "id": "07873f5b",
   "metadata": {},
   "outputs": [
    {
     "data": {
      "text/plain": [
       "0       1956\n",
       "1       1330\n",
       "2       2494\n",
       "3       1199\n",
       "4       1199\n",
       "        ... \n",
       "5507    2995\n",
       "5508    1968\n",
       "5509    2755\n",
       "5510    2967\n",
       "5511    1991\n",
       "Name: engine, Length: 5491, dtype: int64"
      ]
     },
     "execution_count": 241,
     "metadata": {},
     "output_type": "execute_result"
    }
   ],
   "source": [
    "\n",
    "dataset['engine']=dataset['engine'].str.replace(' cc','')\n",
    "dataset['engine'].astype('int64')"
   ]
  },
  {
   "cell_type": "markdown",
   "id": "e311e8d7",
   "metadata": {},
   "source": [
    "# problems with Seats"
   ]
  },
  {
   "cell_type": "code",
   "execution_count": 242,
   "id": "9d6d1f66",
   "metadata": {},
   "outputs": [
    {
     "data": {
      "text/plain": [
       "0       5\n",
       "1       5\n",
       "2       5\n",
       "3       5\n",
       "4       5\n",
       "       ..\n",
       "5507    7\n",
       "5508    5\n",
       "5509    5\n",
       "5510    6\n",
       "5511    5\n",
       "Name: Seats, Length: 5491, dtype: int64"
      ]
     },
     "execution_count": 242,
     "metadata": {},
     "output_type": "execute_result"
    }
   ],
   "source": [
    "dataset['Seats']=dataset['Seats'].str.replace(' Seats','')\n",
    "dataset['Seats'].astype('int64')"
   ]
  },
  {
   "cell_type": "markdown",
   "id": "7d80523c",
   "metadata": {},
   "source": [
    "# problems with manufacture"
   ]
  },
  {
   "cell_type": "code",
   "execution_count": 243,
   "id": "c264c3a7",
   "metadata": {},
   "outputs": [
    {
     "data": {
      "text/plain": [
       "0      1970-01-01 00:00:00.000002017\n",
       "1      1970-01-01 00:00:00.000002021\n",
       "2      1970-01-01 00:00:00.000002016\n",
       "3      1970-01-01 00:00:00.000002018\n",
       "4      1970-01-01 00:00:00.000002016\n",
       "                    ...             \n",
       "5507   1970-01-01 00:00:00.000002018\n",
       "5508   1970-01-01 00:00:00.000002015\n",
       "5509   1970-01-01 00:00:00.000002013\n",
       "5510   1970-01-01 00:00:00.000002015\n",
       "5511   1970-01-01 00:00:00.000002017\n",
       "Name: manufacture, Length: 5491, dtype: datetime64[ns]"
      ]
     },
     "execution_count": 243,
     "metadata": {},
     "output_type": "execute_result"
    }
   ],
   "source": [
    "pd.to_datetime(dataset['manufacture'])"
   ]
  },
  {
   "cell_type": "code",
   "execution_count": 244,
   "id": "9cd4d32c",
   "metadata": {},
   "outputs": [],
   "source": [
    "dataset['manufacture']=pd.to_datetime(dataset['manufacture'])"
   ]
  },
  {
   "cell_type": "code",
   "execution_count": 245,
   "id": "c35dd28b",
   "metadata": {},
   "outputs": [
    {
     "data": {
      "text/html": [
       "<div>\n",
       "<style scoped>\n",
       "    .dataframe tbody tr th:only-of-type {\n",
       "        vertical-align: middle;\n",
       "    }\n",
       "\n",
       "    .dataframe tbody tr th {\n",
       "        vertical-align: top;\n",
       "    }\n",
       "\n",
       "    .dataframe thead th {\n",
       "        text-align: right;\n",
       "    }\n",
       "</style>\n",
       "<table border=\"1\" class=\"dataframe\">\n",
       "  <thead>\n",
       "    <tr style=\"text-align: right;\">\n",
       "      <th></th>\n",
       "      <th>Column1</th>\n",
       "      <th>car_name</th>\n",
       "      <th>car_prices_in_rupee</th>\n",
       "      <th>kms_driven</th>\n",
       "      <th>fuel_type</th>\n",
       "      <th>transmission</th>\n",
       "      <th>ownership</th>\n",
       "      <th>manufacture</th>\n",
       "      <th>engine</th>\n",
       "      <th>Seats</th>\n",
       "      <th>company_name</th>\n",
       "    </tr>\n",
       "  </thead>\n",
       "  <tbody>\n",
       "    <tr>\n",
       "      <th>0</th>\n",
       "      <td>0</td>\n",
       "      <td>Compass 2.0 Longitude Option BSIV</td>\n",
       "      <td>1003000.0</td>\n",
       "      <td>86226</td>\n",
       "      <td>Diesel</td>\n",
       "      <td>Manual</td>\n",
       "      <td>1st Owner</td>\n",
       "      <td>1970-01-01 00:00:00.000002017</td>\n",
       "      <td>1956</td>\n",
       "      <td>5</td>\n",
       "      <td>Jeep</td>\n",
       "    </tr>\n",
       "    <tr>\n",
       "      <th>1</th>\n",
       "      <td>1</td>\n",
       "      <td>Duster RXZ Turbo CVT</td>\n",
       "      <td>1283000.0</td>\n",
       "      <td>13248</td>\n",
       "      <td>Petrol</td>\n",
       "      <td>Automatic</td>\n",
       "      <td>1st Owner</td>\n",
       "      <td>1970-01-01 00:00:00.000002021</td>\n",
       "      <td>1330</td>\n",
       "      <td>5</td>\n",
       "      <td>Renault</td>\n",
       "    </tr>\n",
       "    <tr>\n",
       "      <th>2</th>\n",
       "      <td>2</td>\n",
       "      <td>Camry 2.5 G</td>\n",
       "      <td>1640000.0</td>\n",
       "      <td>60343</td>\n",
       "      <td>Petrol</td>\n",
       "      <td>Automatic</td>\n",
       "      <td>1st Owner</td>\n",
       "      <td>1970-01-01 00:00:00.000002016</td>\n",
       "      <td>2494</td>\n",
       "      <td>5</td>\n",
       "      <td>Toyota</td>\n",
       "    </tr>\n",
       "    <tr>\n",
       "      <th>3</th>\n",
       "      <td>3</td>\n",
       "      <td>Jazz VX CVT</td>\n",
       "      <td>777000.0</td>\n",
       "      <td>26696</td>\n",
       "      <td>Petrol</td>\n",
       "      <td>Automatic</td>\n",
       "      <td>1st Owner</td>\n",
       "      <td>1970-01-01 00:00:00.000002018</td>\n",
       "      <td>1199</td>\n",
       "      <td>5</td>\n",
       "      <td>Honda</td>\n",
       "    </tr>\n",
       "    <tr>\n",
       "      <th>4</th>\n",
       "      <td>4</td>\n",
       "      <td>Polo 1.2 MPI Highline</td>\n",
       "      <td>515000.0</td>\n",
       "      <td>69414</td>\n",
       "      <td>Petrol</td>\n",
       "      <td>Manual</td>\n",
       "      <td>1st Owner</td>\n",
       "      <td>1970-01-01 00:00:00.000002016</td>\n",
       "      <td>1199</td>\n",
       "      <td>5</td>\n",
       "      <td>Volkswagen</td>\n",
       "    </tr>\n",
       "  </tbody>\n",
       "</table>\n",
       "</div>"
      ],
      "text/plain": [
       "   Column1                           car_name  car_prices_in_rupee kms_driven  \\\n",
       "0        0  Compass 2.0 Longitude Option BSIV            1003000.0     86226    \n",
       "1        1               Duster RXZ Turbo CVT            1283000.0     13248    \n",
       "2        2                        Camry 2.5 G            1640000.0     60343    \n",
       "3        3                        Jazz VX CVT             777000.0     26696    \n",
       "4        4              Polo 1.2 MPI Highline             515000.0     69414    \n",
       "\n",
       "  fuel_type transmission  ownership                   manufacture engine  \\\n",
       "0    Diesel       Manual  1st Owner 1970-01-01 00:00:00.000002017   1956   \n",
       "1    Petrol    Automatic  1st Owner 1970-01-01 00:00:00.000002021   1330   \n",
       "2    Petrol    Automatic  1st Owner 1970-01-01 00:00:00.000002016   2494   \n",
       "3    Petrol    Automatic  1st Owner 1970-01-01 00:00:00.000002018   1199   \n",
       "4    Petrol       Manual  1st Owner 1970-01-01 00:00:00.000002016   1199   \n",
       "\n",
       "  Seats company_name  \n",
       "0     5         Jeep  \n",
       "1     5      Renault  \n",
       "2     5       Toyota  \n",
       "3     5        Honda  \n",
       "4     5   Volkswagen  "
      ]
     },
     "execution_count": 245,
     "metadata": {},
     "output_type": "execute_result"
    }
   ],
   "source": [
    "dataset.head(5)"
   ]
  },
  {
   "cell_type": "markdown",
   "id": "f2807c6a",
   "metadata": {},
   "source": [
    "# Data Cleaning For Machine Learning\n",
    "=>Hadling Missing Data <-> encodinf categorical variables\n",
    "\n",
    "=>outlire detection and hadling <-> handling duplicates\n",
    "\n",
    "=>data scaling & transformation <-> dealing with inconsist data"
   ]
  },
  {
   "cell_type": "code",
   "execution_count": 246,
   "id": "dc58847b",
   "metadata": {},
   "outputs": [],
   "source": [
    "from sklearn.preprocessing import LabelEncoder,StandardScaler "
   ]
  },
  {
   "cell_type": "markdown",
   "id": "db14a9cf",
   "metadata": {},
   "source": [
    "# car_name"
   ]
  },
  {
   "cell_type": "code",
   "execution_count": 247,
   "id": "1e53dbbb",
   "metadata": {},
   "outputs": [
    {
     "data": {
      "text/plain": [
       "array([ 426,  509,  290, ..., 1711,   25,   13])"
      ]
     },
     "execution_count": 247,
     "metadata": {},
     "output_type": "execute_result"
    }
   ],
   "source": [
    "car_name_en =LabelEncoder()\n",
    "car_name_en.fit_transform(dataset['car_name'])"
   ]
  },
  {
   "cell_type": "code",
   "execution_count": 248,
   "id": "218abff0",
   "metadata": {},
   "outputs": [],
   "source": [
    "dataset['car_name']=car_name_en.fit_transform(dataset['car_name'])"
   ]
  },
  {
   "cell_type": "code",
   "execution_count": 249,
   "id": "2002acdb",
   "metadata": {},
   "outputs": [
    {
     "data": {
      "text/html": [
       "<div>\n",
       "<style scoped>\n",
       "    .dataframe tbody tr th:only-of-type {\n",
       "        vertical-align: middle;\n",
       "    }\n",
       "\n",
       "    .dataframe tbody tr th {\n",
       "        vertical-align: top;\n",
       "    }\n",
       "\n",
       "    .dataframe thead th {\n",
       "        text-align: right;\n",
       "    }\n",
       "</style>\n",
       "<table border=\"1\" class=\"dataframe\">\n",
       "  <thead>\n",
       "    <tr style=\"text-align: right;\">\n",
       "      <th></th>\n",
       "      <th>Column1</th>\n",
       "      <th>car_name</th>\n",
       "      <th>car_prices_in_rupee</th>\n",
       "      <th>kms_driven</th>\n",
       "      <th>fuel_type</th>\n",
       "      <th>transmission</th>\n",
       "      <th>ownership</th>\n",
       "      <th>manufacture</th>\n",
       "      <th>engine</th>\n",
       "      <th>Seats</th>\n",
       "      <th>company_name</th>\n",
       "    </tr>\n",
       "  </thead>\n",
       "  <tbody>\n",
       "    <tr>\n",
       "      <th>0</th>\n",
       "      <td>0</td>\n",
       "      <td>426</td>\n",
       "      <td>1003000.0</td>\n",
       "      <td>86226</td>\n",
       "      <td>Diesel</td>\n",
       "      <td>Manual</td>\n",
       "      <td>1st Owner</td>\n",
       "      <td>1970-01-01 00:00:00.000002017</td>\n",
       "      <td>1956</td>\n",
       "      <td>5</td>\n",
       "      <td>Jeep</td>\n",
       "    </tr>\n",
       "    <tr>\n",
       "      <th>1</th>\n",
       "      <td>1</td>\n",
       "      <td>509</td>\n",
       "      <td>1283000.0</td>\n",
       "      <td>13248</td>\n",
       "      <td>Petrol</td>\n",
       "      <td>Automatic</td>\n",
       "      <td>1st Owner</td>\n",
       "      <td>1970-01-01 00:00:00.000002021</td>\n",
       "      <td>1330</td>\n",
       "      <td>5</td>\n",
       "      <td>Renault</td>\n",
       "    </tr>\n",
       "    <tr>\n",
       "      <th>2</th>\n",
       "      <td>2</td>\n",
       "      <td>290</td>\n",
       "      <td>1640000.0</td>\n",
       "      <td>60343</td>\n",
       "      <td>Petrol</td>\n",
       "      <td>Automatic</td>\n",
       "      <td>1st Owner</td>\n",
       "      <td>1970-01-01 00:00:00.000002016</td>\n",
       "      <td>2494</td>\n",
       "      <td>5</td>\n",
       "      <td>Toyota</td>\n",
       "    </tr>\n",
       "    <tr>\n",
       "      <th>3</th>\n",
       "      <td>3</td>\n",
       "      <td>911</td>\n",
       "      <td>777000.0</td>\n",
       "      <td>26696</td>\n",
       "      <td>Petrol</td>\n",
       "      <td>Automatic</td>\n",
       "      <td>1st Owner</td>\n",
       "      <td>1970-01-01 00:00:00.000002018</td>\n",
       "      <td>1199</td>\n",
       "      <td>5</td>\n",
       "      <td>Honda</td>\n",
       "    </tr>\n",
       "    <tr>\n",
       "      <th>4</th>\n",
       "      <td>4</td>\n",
       "      <td>1093</td>\n",
       "      <td>515000.0</td>\n",
       "      <td>69414</td>\n",
       "      <td>Petrol</td>\n",
       "      <td>Manual</td>\n",
       "      <td>1st Owner</td>\n",
       "      <td>1970-01-01 00:00:00.000002016</td>\n",
       "      <td>1199</td>\n",
       "      <td>5</td>\n",
       "      <td>Volkswagen</td>\n",
       "    </tr>\n",
       "  </tbody>\n",
       "</table>\n",
       "</div>"
      ],
      "text/plain": [
       "   Column1  car_name  car_prices_in_rupee kms_driven fuel_type transmission  \\\n",
       "0        0       426            1003000.0     86226     Diesel       Manual   \n",
       "1        1       509            1283000.0     13248     Petrol    Automatic   \n",
       "2        2       290            1640000.0     60343     Petrol    Automatic   \n",
       "3        3       911             777000.0     26696     Petrol    Automatic   \n",
       "4        4      1093             515000.0     69414     Petrol       Manual   \n",
       "\n",
       "   ownership                   manufacture engine Seats company_name  \n",
       "0  1st Owner 1970-01-01 00:00:00.000002017   1956     5         Jeep  \n",
       "1  1st Owner 1970-01-01 00:00:00.000002021   1330     5      Renault  \n",
       "2  1st Owner 1970-01-01 00:00:00.000002016   2494     5       Toyota  \n",
       "3  1st Owner 1970-01-01 00:00:00.000002018   1199     5        Honda  \n",
       "4  1st Owner 1970-01-01 00:00:00.000002016   1199     5   Volkswagen  "
      ]
     },
     "execution_count": 249,
     "metadata": {},
     "output_type": "execute_result"
    }
   ],
   "source": [
    "dataset.head(5)"
   ]
  },
  {
   "cell_type": "markdown",
   "id": "3724b650",
   "metadata": {},
   "source": [
    "# fuel_type"
   ]
  },
  {
   "cell_type": "code",
   "execution_count": 250,
   "id": "332620c7",
   "metadata": {},
   "outputs": [
    {
     "data": {
      "text/plain": [
       "array([1, 4, 4, ..., 1, 1, 1])"
      ]
     },
     "execution_count": 250,
     "metadata": {},
     "output_type": "execute_result"
    }
   ],
   "source": [
    "fuel_type_en =LabelEncoder()\n",
    "fuel_type_en.fit_transform(dataset['fuel_type'])"
   ]
  },
  {
   "cell_type": "code",
   "execution_count": 251,
   "id": "ff6d3688",
   "metadata": {},
   "outputs": [],
   "source": [
    "dataset['fuel_type']=fuel_type_en.fit_transform(dataset['fuel_type'])"
   ]
  },
  {
   "cell_type": "code",
   "execution_count": 252,
   "id": "30a5c720",
   "metadata": {},
   "outputs": [
    {
     "data": {
      "text/html": [
       "<div>\n",
       "<style scoped>\n",
       "    .dataframe tbody tr th:only-of-type {\n",
       "        vertical-align: middle;\n",
       "    }\n",
       "\n",
       "    .dataframe tbody tr th {\n",
       "        vertical-align: top;\n",
       "    }\n",
       "\n",
       "    .dataframe thead th {\n",
       "        text-align: right;\n",
       "    }\n",
       "</style>\n",
       "<table border=\"1\" class=\"dataframe\">\n",
       "  <thead>\n",
       "    <tr style=\"text-align: right;\">\n",
       "      <th></th>\n",
       "      <th>Column1</th>\n",
       "      <th>car_name</th>\n",
       "      <th>car_prices_in_rupee</th>\n",
       "      <th>kms_driven</th>\n",
       "      <th>fuel_type</th>\n",
       "      <th>transmission</th>\n",
       "      <th>ownership</th>\n",
       "      <th>manufacture</th>\n",
       "      <th>engine</th>\n",
       "      <th>Seats</th>\n",
       "      <th>company_name</th>\n",
       "    </tr>\n",
       "  </thead>\n",
       "  <tbody>\n",
       "    <tr>\n",
       "      <th>0</th>\n",
       "      <td>0</td>\n",
       "      <td>426</td>\n",
       "      <td>1003000.0</td>\n",
       "      <td>86226</td>\n",
       "      <td>1</td>\n",
       "      <td>Manual</td>\n",
       "      <td>1st Owner</td>\n",
       "      <td>1970-01-01 00:00:00.000002017</td>\n",
       "      <td>1956</td>\n",
       "      <td>5</td>\n",
       "      <td>Jeep</td>\n",
       "    </tr>\n",
       "    <tr>\n",
       "      <th>1</th>\n",
       "      <td>1</td>\n",
       "      <td>509</td>\n",
       "      <td>1283000.0</td>\n",
       "      <td>13248</td>\n",
       "      <td>4</td>\n",
       "      <td>Automatic</td>\n",
       "      <td>1st Owner</td>\n",
       "      <td>1970-01-01 00:00:00.000002021</td>\n",
       "      <td>1330</td>\n",
       "      <td>5</td>\n",
       "      <td>Renault</td>\n",
       "    </tr>\n",
       "    <tr>\n",
       "      <th>2</th>\n",
       "      <td>2</td>\n",
       "      <td>290</td>\n",
       "      <td>1640000.0</td>\n",
       "      <td>60343</td>\n",
       "      <td>4</td>\n",
       "      <td>Automatic</td>\n",
       "      <td>1st Owner</td>\n",
       "      <td>1970-01-01 00:00:00.000002016</td>\n",
       "      <td>2494</td>\n",
       "      <td>5</td>\n",
       "      <td>Toyota</td>\n",
       "    </tr>\n",
       "    <tr>\n",
       "      <th>3</th>\n",
       "      <td>3</td>\n",
       "      <td>911</td>\n",
       "      <td>777000.0</td>\n",
       "      <td>26696</td>\n",
       "      <td>4</td>\n",
       "      <td>Automatic</td>\n",
       "      <td>1st Owner</td>\n",
       "      <td>1970-01-01 00:00:00.000002018</td>\n",
       "      <td>1199</td>\n",
       "      <td>5</td>\n",
       "      <td>Honda</td>\n",
       "    </tr>\n",
       "    <tr>\n",
       "      <th>4</th>\n",
       "      <td>4</td>\n",
       "      <td>1093</td>\n",
       "      <td>515000.0</td>\n",
       "      <td>69414</td>\n",
       "      <td>4</td>\n",
       "      <td>Manual</td>\n",
       "      <td>1st Owner</td>\n",
       "      <td>1970-01-01 00:00:00.000002016</td>\n",
       "      <td>1199</td>\n",
       "      <td>5</td>\n",
       "      <td>Volkswagen</td>\n",
       "    </tr>\n",
       "  </tbody>\n",
       "</table>\n",
       "</div>"
      ],
      "text/plain": [
       "   Column1  car_name  car_prices_in_rupee kms_driven  fuel_type transmission  \\\n",
       "0        0       426            1003000.0     86226           1       Manual   \n",
       "1        1       509            1283000.0     13248           4    Automatic   \n",
       "2        2       290            1640000.0     60343           4    Automatic   \n",
       "3        3       911             777000.0     26696           4    Automatic   \n",
       "4        4      1093             515000.0     69414           4       Manual   \n",
       "\n",
       "   ownership                   manufacture engine Seats company_name  \n",
       "0  1st Owner 1970-01-01 00:00:00.000002017   1956     5         Jeep  \n",
       "1  1st Owner 1970-01-01 00:00:00.000002021   1330     5      Renault  \n",
       "2  1st Owner 1970-01-01 00:00:00.000002016   2494     5       Toyota  \n",
       "3  1st Owner 1970-01-01 00:00:00.000002018   1199     5        Honda  \n",
       "4  1st Owner 1970-01-01 00:00:00.000002016   1199     5   Volkswagen  "
      ]
     },
     "execution_count": 252,
     "metadata": {},
     "output_type": "execute_result"
    }
   ],
   "source": [
    "dataset.head(5)"
   ]
  },
  {
   "cell_type": "markdown",
   "id": "83b5e136",
   "metadata": {},
   "source": [
    "# transmission"
   ]
  },
  {
   "cell_type": "code",
   "execution_count": 253,
   "id": "37d2e4d9",
   "metadata": {},
   "outputs": [
    {
     "data": {
      "text/plain": [
       "array([1, 0, 0, ..., 0, 0, 0])"
      ]
     },
     "execution_count": 253,
     "metadata": {},
     "output_type": "execute_result"
    }
   ],
   "source": [
    "transmission_en =LabelEncoder()\n",
    "transmission_en.fit_transform(dataset['transmission'])"
   ]
  },
  {
   "cell_type": "code",
   "execution_count": 254,
   "id": "bdb01a1e",
   "metadata": {},
   "outputs": [],
   "source": [
    "dataset['transmission']=transmission_en.fit_transform(dataset['transmission'])"
   ]
  },
  {
   "cell_type": "code",
   "execution_count": 255,
   "id": "69662508",
   "metadata": {},
   "outputs": [
    {
     "data": {
      "text/html": [
       "<div>\n",
       "<style scoped>\n",
       "    .dataframe tbody tr th:only-of-type {\n",
       "        vertical-align: middle;\n",
       "    }\n",
       "\n",
       "    .dataframe tbody tr th {\n",
       "        vertical-align: top;\n",
       "    }\n",
       "\n",
       "    .dataframe thead th {\n",
       "        text-align: right;\n",
       "    }\n",
       "</style>\n",
       "<table border=\"1\" class=\"dataframe\">\n",
       "  <thead>\n",
       "    <tr style=\"text-align: right;\">\n",
       "      <th></th>\n",
       "      <th>Column1</th>\n",
       "      <th>car_name</th>\n",
       "      <th>car_prices_in_rupee</th>\n",
       "      <th>kms_driven</th>\n",
       "      <th>fuel_type</th>\n",
       "      <th>transmission</th>\n",
       "      <th>ownership</th>\n",
       "      <th>manufacture</th>\n",
       "      <th>engine</th>\n",
       "      <th>Seats</th>\n",
       "      <th>company_name</th>\n",
       "    </tr>\n",
       "  </thead>\n",
       "  <tbody>\n",
       "    <tr>\n",
       "      <th>0</th>\n",
       "      <td>0</td>\n",
       "      <td>426</td>\n",
       "      <td>1003000.0</td>\n",
       "      <td>86226</td>\n",
       "      <td>1</td>\n",
       "      <td>1</td>\n",
       "      <td>1st Owner</td>\n",
       "      <td>1970-01-01 00:00:00.000002017</td>\n",
       "      <td>1956</td>\n",
       "      <td>5</td>\n",
       "      <td>Jeep</td>\n",
       "    </tr>\n",
       "    <tr>\n",
       "      <th>1</th>\n",
       "      <td>1</td>\n",
       "      <td>509</td>\n",
       "      <td>1283000.0</td>\n",
       "      <td>13248</td>\n",
       "      <td>4</td>\n",
       "      <td>0</td>\n",
       "      <td>1st Owner</td>\n",
       "      <td>1970-01-01 00:00:00.000002021</td>\n",
       "      <td>1330</td>\n",
       "      <td>5</td>\n",
       "      <td>Renault</td>\n",
       "    </tr>\n",
       "    <tr>\n",
       "      <th>2</th>\n",
       "      <td>2</td>\n",
       "      <td>290</td>\n",
       "      <td>1640000.0</td>\n",
       "      <td>60343</td>\n",
       "      <td>4</td>\n",
       "      <td>0</td>\n",
       "      <td>1st Owner</td>\n",
       "      <td>1970-01-01 00:00:00.000002016</td>\n",
       "      <td>2494</td>\n",
       "      <td>5</td>\n",
       "      <td>Toyota</td>\n",
       "    </tr>\n",
       "    <tr>\n",
       "      <th>3</th>\n",
       "      <td>3</td>\n",
       "      <td>911</td>\n",
       "      <td>777000.0</td>\n",
       "      <td>26696</td>\n",
       "      <td>4</td>\n",
       "      <td>0</td>\n",
       "      <td>1st Owner</td>\n",
       "      <td>1970-01-01 00:00:00.000002018</td>\n",
       "      <td>1199</td>\n",
       "      <td>5</td>\n",
       "      <td>Honda</td>\n",
       "    </tr>\n",
       "    <tr>\n",
       "      <th>4</th>\n",
       "      <td>4</td>\n",
       "      <td>1093</td>\n",
       "      <td>515000.0</td>\n",
       "      <td>69414</td>\n",
       "      <td>4</td>\n",
       "      <td>1</td>\n",
       "      <td>1st Owner</td>\n",
       "      <td>1970-01-01 00:00:00.000002016</td>\n",
       "      <td>1199</td>\n",
       "      <td>5</td>\n",
       "      <td>Volkswagen</td>\n",
       "    </tr>\n",
       "  </tbody>\n",
       "</table>\n",
       "</div>"
      ],
      "text/plain": [
       "   Column1  car_name  car_prices_in_rupee kms_driven  fuel_type  transmission  \\\n",
       "0        0       426            1003000.0     86226           1             1   \n",
       "1        1       509            1283000.0     13248           4             0   \n",
       "2        2       290            1640000.0     60343           4             0   \n",
       "3        3       911             777000.0     26696           4             0   \n",
       "4        4      1093             515000.0     69414           4             1   \n",
       "\n",
       "   ownership                   manufacture engine Seats company_name  \n",
       "0  1st Owner 1970-01-01 00:00:00.000002017   1956     5         Jeep  \n",
       "1  1st Owner 1970-01-01 00:00:00.000002021   1330     5      Renault  \n",
       "2  1st Owner 1970-01-01 00:00:00.000002016   2494     5       Toyota  \n",
       "3  1st Owner 1970-01-01 00:00:00.000002018   1199     5        Honda  \n",
       "4  1st Owner 1970-01-01 00:00:00.000002016   1199     5   Volkswagen  "
      ]
     },
     "execution_count": 255,
     "metadata": {},
     "output_type": "execute_result"
    }
   ],
   "source": [
    "dataset.head(5)"
   ]
  },
  {
   "cell_type": "markdown",
   "id": "1608a2b8",
   "metadata": {},
   "source": [
    "# ownership"
   ]
  },
  {
   "cell_type": "code",
   "execution_count": 256,
   "id": "a5f2d7bb",
   "metadata": {},
   "outputs": [
    {
     "data": {
      "text/plain": [
       "array([1, 1, 1, ..., 2, 3, 2])"
      ]
     },
     "execution_count": 256,
     "metadata": {},
     "output_type": "execute_result"
    }
   ],
   "source": [
    "ownership_en =LabelEncoder()\n",
    "ownership_en.fit_transform(dataset['ownership'])"
   ]
  },
  {
   "cell_type": "code",
   "execution_count": 257,
   "id": "b93b8654",
   "metadata": {},
   "outputs": [],
   "source": [
    "dataset['ownership']=ownership_en.fit_transform(dataset['ownership'])"
   ]
  },
  {
   "cell_type": "code",
   "execution_count": 258,
   "id": "e355a752",
   "metadata": {},
   "outputs": [
    {
     "data": {
      "text/html": [
       "<div>\n",
       "<style scoped>\n",
       "    .dataframe tbody tr th:only-of-type {\n",
       "        vertical-align: middle;\n",
       "    }\n",
       "\n",
       "    .dataframe tbody tr th {\n",
       "        vertical-align: top;\n",
       "    }\n",
       "\n",
       "    .dataframe thead th {\n",
       "        text-align: right;\n",
       "    }\n",
       "</style>\n",
       "<table border=\"1\" class=\"dataframe\">\n",
       "  <thead>\n",
       "    <tr style=\"text-align: right;\">\n",
       "      <th></th>\n",
       "      <th>Column1</th>\n",
       "      <th>car_name</th>\n",
       "      <th>car_prices_in_rupee</th>\n",
       "      <th>kms_driven</th>\n",
       "      <th>fuel_type</th>\n",
       "      <th>transmission</th>\n",
       "      <th>ownership</th>\n",
       "      <th>manufacture</th>\n",
       "      <th>engine</th>\n",
       "      <th>Seats</th>\n",
       "      <th>company_name</th>\n",
       "    </tr>\n",
       "  </thead>\n",
       "  <tbody>\n",
       "    <tr>\n",
       "      <th>0</th>\n",
       "      <td>0</td>\n",
       "      <td>426</td>\n",
       "      <td>1003000.0</td>\n",
       "      <td>86226</td>\n",
       "      <td>1</td>\n",
       "      <td>1</td>\n",
       "      <td>1</td>\n",
       "      <td>1970-01-01 00:00:00.000002017</td>\n",
       "      <td>1956</td>\n",
       "      <td>5</td>\n",
       "      <td>Jeep</td>\n",
       "    </tr>\n",
       "    <tr>\n",
       "      <th>1</th>\n",
       "      <td>1</td>\n",
       "      <td>509</td>\n",
       "      <td>1283000.0</td>\n",
       "      <td>13248</td>\n",
       "      <td>4</td>\n",
       "      <td>0</td>\n",
       "      <td>1</td>\n",
       "      <td>1970-01-01 00:00:00.000002021</td>\n",
       "      <td>1330</td>\n",
       "      <td>5</td>\n",
       "      <td>Renault</td>\n",
       "    </tr>\n",
       "    <tr>\n",
       "      <th>2</th>\n",
       "      <td>2</td>\n",
       "      <td>290</td>\n",
       "      <td>1640000.0</td>\n",
       "      <td>60343</td>\n",
       "      <td>4</td>\n",
       "      <td>0</td>\n",
       "      <td>1</td>\n",
       "      <td>1970-01-01 00:00:00.000002016</td>\n",
       "      <td>2494</td>\n",
       "      <td>5</td>\n",
       "      <td>Toyota</td>\n",
       "    </tr>\n",
       "    <tr>\n",
       "      <th>3</th>\n",
       "      <td>3</td>\n",
       "      <td>911</td>\n",
       "      <td>777000.0</td>\n",
       "      <td>26696</td>\n",
       "      <td>4</td>\n",
       "      <td>0</td>\n",
       "      <td>1</td>\n",
       "      <td>1970-01-01 00:00:00.000002018</td>\n",
       "      <td>1199</td>\n",
       "      <td>5</td>\n",
       "      <td>Honda</td>\n",
       "    </tr>\n",
       "    <tr>\n",
       "      <th>4</th>\n",
       "      <td>4</td>\n",
       "      <td>1093</td>\n",
       "      <td>515000.0</td>\n",
       "      <td>69414</td>\n",
       "      <td>4</td>\n",
       "      <td>1</td>\n",
       "      <td>1</td>\n",
       "      <td>1970-01-01 00:00:00.000002016</td>\n",
       "      <td>1199</td>\n",
       "      <td>5</td>\n",
       "      <td>Volkswagen</td>\n",
       "    </tr>\n",
       "  </tbody>\n",
       "</table>\n",
       "</div>"
      ],
      "text/plain": [
       "   Column1  car_name  car_prices_in_rupee kms_driven  fuel_type  transmission  \\\n",
       "0        0       426            1003000.0     86226           1             1   \n",
       "1        1       509            1283000.0     13248           4             0   \n",
       "2        2       290            1640000.0     60343           4             0   \n",
       "3        3       911             777000.0     26696           4             0   \n",
       "4        4      1093             515000.0     69414           4             1   \n",
       "\n",
       "   ownership                   manufacture engine Seats company_name  \n",
       "0          1 1970-01-01 00:00:00.000002017   1956     5         Jeep  \n",
       "1          1 1970-01-01 00:00:00.000002021   1330     5      Renault  \n",
       "2          1 1970-01-01 00:00:00.000002016   2494     5       Toyota  \n",
       "3          1 1970-01-01 00:00:00.000002018   1199     5        Honda  \n",
       "4          1 1970-01-01 00:00:00.000002016   1199     5   Volkswagen  "
      ]
     },
     "execution_count": 258,
     "metadata": {},
     "output_type": "execute_result"
    }
   ],
   "source": [
    "dataset.head(5)"
   ]
  },
  {
   "cell_type": "markdown",
   "id": "57993bee",
   "metadata": {},
   "source": [
    "# manufacture"
   ]
  },
  {
   "cell_type": "code",
   "execution_count": 259,
   "id": "1d7f22d8",
   "metadata": {},
   "outputs": [
    {
     "data": {
      "text/plain": [
       "0      1970-01-01 00:00:00.000002017\n",
       "1      1970-01-01 00:00:00.000002021\n",
       "2      1970-01-01 00:00:00.000002016\n",
       "3      1970-01-01 00:00:00.000002018\n",
       "4      1970-01-01 00:00:00.000002016\n",
       "                    ...             \n",
       "5507   1970-01-01 00:00:00.000002018\n",
       "5508   1970-01-01 00:00:00.000002015\n",
       "5509   1970-01-01 00:00:00.000002013\n",
       "5510   1970-01-01 00:00:00.000002015\n",
       "5511   1970-01-01 00:00:00.000002017\n",
       "Name: manufacture, Length: 5491, dtype: datetime64[ns]"
      ]
     },
     "execution_count": 259,
     "metadata": {},
     "output_type": "execute_result"
    }
   ],
   "source": [
    "dataset['manufacture']"
   ]
  },
  {
   "cell_type": "code",
   "execution_count": 260,
   "id": "bc3d4fff",
   "metadata": {},
   "outputs": [],
   "source": [
    "dataset['manufacture_year']=dataset['manufacture'].dt.year"
   ]
  },
  {
   "cell_type": "code",
   "execution_count": 261,
   "id": "9e783834",
   "metadata": {},
   "outputs": [
    {
     "data": {
      "text/html": [
       "<div>\n",
       "<style scoped>\n",
       "    .dataframe tbody tr th:only-of-type {\n",
       "        vertical-align: middle;\n",
       "    }\n",
       "\n",
       "    .dataframe tbody tr th {\n",
       "        vertical-align: top;\n",
       "    }\n",
       "\n",
       "    .dataframe thead th {\n",
       "        text-align: right;\n",
       "    }\n",
       "</style>\n",
       "<table border=\"1\" class=\"dataframe\">\n",
       "  <thead>\n",
       "    <tr style=\"text-align: right;\">\n",
       "      <th></th>\n",
       "      <th>Column1</th>\n",
       "      <th>car_name</th>\n",
       "      <th>car_prices_in_rupee</th>\n",
       "      <th>kms_driven</th>\n",
       "      <th>fuel_type</th>\n",
       "      <th>transmission</th>\n",
       "      <th>ownership</th>\n",
       "      <th>manufacture</th>\n",
       "      <th>engine</th>\n",
       "      <th>Seats</th>\n",
       "      <th>company_name</th>\n",
       "      <th>manufacture_year</th>\n",
       "    </tr>\n",
       "  </thead>\n",
       "  <tbody>\n",
       "    <tr>\n",
       "      <th>0</th>\n",
       "      <td>0</td>\n",
       "      <td>426</td>\n",
       "      <td>1003000.0</td>\n",
       "      <td>86226</td>\n",
       "      <td>1</td>\n",
       "      <td>1</td>\n",
       "      <td>1</td>\n",
       "      <td>1970-01-01 00:00:00.000002017</td>\n",
       "      <td>1956</td>\n",
       "      <td>5</td>\n",
       "      <td>Jeep</td>\n",
       "      <td>1970</td>\n",
       "    </tr>\n",
       "    <tr>\n",
       "      <th>1</th>\n",
       "      <td>1</td>\n",
       "      <td>509</td>\n",
       "      <td>1283000.0</td>\n",
       "      <td>13248</td>\n",
       "      <td>4</td>\n",
       "      <td>0</td>\n",
       "      <td>1</td>\n",
       "      <td>1970-01-01 00:00:00.000002021</td>\n",
       "      <td>1330</td>\n",
       "      <td>5</td>\n",
       "      <td>Renault</td>\n",
       "      <td>1970</td>\n",
       "    </tr>\n",
       "    <tr>\n",
       "      <th>2</th>\n",
       "      <td>2</td>\n",
       "      <td>290</td>\n",
       "      <td>1640000.0</td>\n",
       "      <td>60343</td>\n",
       "      <td>4</td>\n",
       "      <td>0</td>\n",
       "      <td>1</td>\n",
       "      <td>1970-01-01 00:00:00.000002016</td>\n",
       "      <td>2494</td>\n",
       "      <td>5</td>\n",
       "      <td>Toyota</td>\n",
       "      <td>1970</td>\n",
       "    </tr>\n",
       "    <tr>\n",
       "      <th>3</th>\n",
       "      <td>3</td>\n",
       "      <td>911</td>\n",
       "      <td>777000.0</td>\n",
       "      <td>26696</td>\n",
       "      <td>4</td>\n",
       "      <td>0</td>\n",
       "      <td>1</td>\n",
       "      <td>1970-01-01 00:00:00.000002018</td>\n",
       "      <td>1199</td>\n",
       "      <td>5</td>\n",
       "      <td>Honda</td>\n",
       "      <td>1970</td>\n",
       "    </tr>\n",
       "    <tr>\n",
       "      <th>4</th>\n",
       "      <td>4</td>\n",
       "      <td>1093</td>\n",
       "      <td>515000.0</td>\n",
       "      <td>69414</td>\n",
       "      <td>4</td>\n",
       "      <td>1</td>\n",
       "      <td>1</td>\n",
       "      <td>1970-01-01 00:00:00.000002016</td>\n",
       "      <td>1199</td>\n",
       "      <td>5</td>\n",
       "      <td>Volkswagen</td>\n",
       "      <td>1970</td>\n",
       "    </tr>\n",
       "  </tbody>\n",
       "</table>\n",
       "</div>"
      ],
      "text/plain": [
       "   Column1  car_name  car_prices_in_rupee kms_driven  fuel_type  transmission  \\\n",
       "0        0       426            1003000.0     86226           1             1   \n",
       "1        1       509            1283000.0     13248           4             0   \n",
       "2        2       290            1640000.0     60343           4             0   \n",
       "3        3       911             777000.0     26696           4             0   \n",
       "4        4      1093             515000.0     69414           4             1   \n",
       "\n",
       "   ownership                   manufacture engine Seats company_name  \\\n",
       "0          1 1970-01-01 00:00:00.000002017   1956     5         Jeep   \n",
       "1          1 1970-01-01 00:00:00.000002021   1330     5      Renault   \n",
       "2          1 1970-01-01 00:00:00.000002016   2494     5       Toyota   \n",
       "3          1 1970-01-01 00:00:00.000002018   1199     5        Honda   \n",
       "4          1 1970-01-01 00:00:00.000002016   1199     5   Volkswagen   \n",
       "\n",
       "   manufacture_year  \n",
       "0              1970  \n",
       "1              1970  \n",
       "2              1970  \n",
       "3              1970  \n",
       "4              1970  "
      ]
     },
     "execution_count": 261,
     "metadata": {},
     "output_type": "execute_result"
    }
   ],
   "source": [
    "dataset.head(5)"
   ]
  },
  {
   "cell_type": "markdown",
   "id": "fab58fce",
   "metadata": {},
   "source": [
    "# company_name"
   ]
  },
  {
   "cell_type": "code",
   "execution_count": 262,
   "id": "d8be1f4f",
   "metadata": {},
   "outputs": [
    {
     "data": {
      "text/plain": [
       "array([12, 26, 29, ..., 11,  1,  1])"
      ]
     },
     "execution_count": 262,
     "metadata": {},
     "output_type": "execute_result"
    }
   ],
   "source": [
    "company_name_en =LabelEncoder()\n",
    "company_name_en.fit_transform(dataset['company_name'])"
   ]
  },
  {
   "cell_type": "code",
   "execution_count": 263,
   "id": "a4adc525",
   "metadata": {},
   "outputs": [],
   "source": [
    "dataset['company_name']=company_name_en.fit_transform(dataset['company_name'])"
   ]
  },
  {
   "cell_type": "code",
   "execution_count": 264,
   "id": "8974abc9",
   "metadata": {},
   "outputs": [
    {
     "data": {
      "text/html": [
       "<div>\n",
       "<style scoped>\n",
       "    .dataframe tbody tr th:only-of-type {\n",
       "        vertical-align: middle;\n",
       "    }\n",
       "\n",
       "    .dataframe tbody tr th {\n",
       "        vertical-align: top;\n",
       "    }\n",
       "\n",
       "    .dataframe thead th {\n",
       "        text-align: right;\n",
       "    }\n",
       "</style>\n",
       "<table border=\"1\" class=\"dataframe\">\n",
       "  <thead>\n",
       "    <tr style=\"text-align: right;\">\n",
       "      <th></th>\n",
       "      <th>Column1</th>\n",
       "      <th>car_name</th>\n",
       "      <th>car_prices_in_rupee</th>\n",
       "      <th>kms_driven</th>\n",
       "      <th>fuel_type</th>\n",
       "      <th>transmission</th>\n",
       "      <th>ownership</th>\n",
       "      <th>manufacture</th>\n",
       "      <th>engine</th>\n",
       "      <th>Seats</th>\n",
       "      <th>company_name</th>\n",
       "      <th>manufacture_year</th>\n",
       "    </tr>\n",
       "  </thead>\n",
       "  <tbody>\n",
       "    <tr>\n",
       "      <th>0</th>\n",
       "      <td>0</td>\n",
       "      <td>426</td>\n",
       "      <td>1003000.0</td>\n",
       "      <td>86226</td>\n",
       "      <td>1</td>\n",
       "      <td>1</td>\n",
       "      <td>1</td>\n",
       "      <td>1970-01-01 00:00:00.000002017</td>\n",
       "      <td>1956</td>\n",
       "      <td>5</td>\n",
       "      <td>12</td>\n",
       "      <td>1970</td>\n",
       "    </tr>\n",
       "    <tr>\n",
       "      <th>1</th>\n",
       "      <td>1</td>\n",
       "      <td>509</td>\n",
       "      <td>1283000.0</td>\n",
       "      <td>13248</td>\n",
       "      <td>4</td>\n",
       "      <td>0</td>\n",
       "      <td>1</td>\n",
       "      <td>1970-01-01 00:00:00.000002021</td>\n",
       "      <td>1330</td>\n",
       "      <td>5</td>\n",
       "      <td>26</td>\n",
       "      <td>1970</td>\n",
       "    </tr>\n",
       "    <tr>\n",
       "      <th>2</th>\n",
       "      <td>2</td>\n",
       "      <td>290</td>\n",
       "      <td>1640000.0</td>\n",
       "      <td>60343</td>\n",
       "      <td>4</td>\n",
       "      <td>0</td>\n",
       "      <td>1</td>\n",
       "      <td>1970-01-01 00:00:00.000002016</td>\n",
       "      <td>2494</td>\n",
       "      <td>5</td>\n",
       "      <td>29</td>\n",
       "      <td>1970</td>\n",
       "    </tr>\n",
       "    <tr>\n",
       "      <th>3</th>\n",
       "      <td>3</td>\n",
       "      <td>911</td>\n",
       "      <td>777000.0</td>\n",
       "      <td>26696</td>\n",
       "      <td>4</td>\n",
       "      <td>0</td>\n",
       "      <td>1</td>\n",
       "      <td>1970-01-01 00:00:00.000002018</td>\n",
       "      <td>1199</td>\n",
       "      <td>5</td>\n",
       "      <td>8</td>\n",
       "      <td>1970</td>\n",
       "    </tr>\n",
       "    <tr>\n",
       "      <th>4</th>\n",
       "      <td>4</td>\n",
       "      <td>1093</td>\n",
       "      <td>515000.0</td>\n",
       "      <td>69414</td>\n",
       "      <td>4</td>\n",
       "      <td>1</td>\n",
       "      <td>1</td>\n",
       "      <td>1970-01-01 00:00:00.000002016</td>\n",
       "      <td>1199</td>\n",
       "      <td>5</td>\n",
       "      <td>30</td>\n",
       "      <td>1970</td>\n",
       "    </tr>\n",
       "  </tbody>\n",
       "</table>\n",
       "</div>"
      ],
      "text/plain": [
       "   Column1  car_name  car_prices_in_rupee kms_driven  fuel_type  transmission  \\\n",
       "0        0       426            1003000.0     86226           1             1   \n",
       "1        1       509            1283000.0     13248           4             0   \n",
       "2        2       290            1640000.0     60343           4             0   \n",
       "3        3       911             777000.0     26696           4             0   \n",
       "4        4      1093             515000.0     69414           4             1   \n",
       "\n",
       "   ownership                   manufacture engine Seats  company_name  \\\n",
       "0          1 1970-01-01 00:00:00.000002017   1956     5            12   \n",
       "1          1 1970-01-01 00:00:00.000002021   1330     5            26   \n",
       "2          1 1970-01-01 00:00:00.000002016   2494     5            29   \n",
       "3          1 1970-01-01 00:00:00.000002018   1199     5             8   \n",
       "4          1 1970-01-01 00:00:00.000002016   1199     5            30   \n",
       "\n",
       "   manufacture_year  \n",
       "0              1970  \n",
       "1              1970  \n",
       "2              1970  \n",
       "3              1970  \n",
       "4              1970  "
      ]
     },
     "execution_count": 264,
     "metadata": {},
     "output_type": "execute_result"
    }
   ],
   "source": [
    "dataset.head(5)"
   ]
  },
  {
   "cell_type": "code",
   "execution_count": 265,
   "id": "0f31ab92",
   "metadata": {},
   "outputs": [],
   "source": [
    "#removing unnecessary data\n",
    "dataset.drop(columns=['manufacture'],inplace=True)"
   ]
  },
  {
   "cell_type": "code",
   "execution_count": 266,
   "id": "11f2a293",
   "metadata": {},
   "outputs": [
    {
     "data": {
      "text/html": [
       "<div>\n",
       "<style scoped>\n",
       "    .dataframe tbody tr th:only-of-type {\n",
       "        vertical-align: middle;\n",
       "    }\n",
       "\n",
       "    .dataframe tbody tr th {\n",
       "        vertical-align: top;\n",
       "    }\n",
       "\n",
       "    .dataframe thead th {\n",
       "        text-align: right;\n",
       "    }\n",
       "</style>\n",
       "<table border=\"1\" class=\"dataframe\">\n",
       "  <thead>\n",
       "    <tr style=\"text-align: right;\">\n",
       "      <th></th>\n",
       "      <th>Column1</th>\n",
       "      <th>car_name</th>\n",
       "      <th>car_prices_in_rupee</th>\n",
       "      <th>kms_driven</th>\n",
       "      <th>fuel_type</th>\n",
       "      <th>transmission</th>\n",
       "      <th>ownership</th>\n",
       "      <th>engine</th>\n",
       "      <th>Seats</th>\n",
       "      <th>company_name</th>\n",
       "      <th>manufacture_year</th>\n",
       "    </tr>\n",
       "  </thead>\n",
       "  <tbody>\n",
       "    <tr>\n",
       "      <th>0</th>\n",
       "      <td>0</td>\n",
       "      <td>426</td>\n",
       "      <td>1003000.0</td>\n",
       "      <td>86226</td>\n",
       "      <td>1</td>\n",
       "      <td>1</td>\n",
       "      <td>1</td>\n",
       "      <td>1956</td>\n",
       "      <td>5</td>\n",
       "      <td>12</td>\n",
       "      <td>1970</td>\n",
       "    </tr>\n",
       "    <tr>\n",
       "      <th>1</th>\n",
       "      <td>1</td>\n",
       "      <td>509</td>\n",
       "      <td>1283000.0</td>\n",
       "      <td>13248</td>\n",
       "      <td>4</td>\n",
       "      <td>0</td>\n",
       "      <td>1</td>\n",
       "      <td>1330</td>\n",
       "      <td>5</td>\n",
       "      <td>26</td>\n",
       "      <td>1970</td>\n",
       "    </tr>\n",
       "    <tr>\n",
       "      <th>2</th>\n",
       "      <td>2</td>\n",
       "      <td>290</td>\n",
       "      <td>1640000.0</td>\n",
       "      <td>60343</td>\n",
       "      <td>4</td>\n",
       "      <td>0</td>\n",
       "      <td>1</td>\n",
       "      <td>2494</td>\n",
       "      <td>5</td>\n",
       "      <td>29</td>\n",
       "      <td>1970</td>\n",
       "    </tr>\n",
       "    <tr>\n",
       "      <th>3</th>\n",
       "      <td>3</td>\n",
       "      <td>911</td>\n",
       "      <td>777000.0</td>\n",
       "      <td>26696</td>\n",
       "      <td>4</td>\n",
       "      <td>0</td>\n",
       "      <td>1</td>\n",
       "      <td>1199</td>\n",
       "      <td>5</td>\n",
       "      <td>8</td>\n",
       "      <td>1970</td>\n",
       "    </tr>\n",
       "    <tr>\n",
       "      <th>4</th>\n",
       "      <td>4</td>\n",
       "      <td>1093</td>\n",
       "      <td>515000.0</td>\n",
       "      <td>69414</td>\n",
       "      <td>4</td>\n",
       "      <td>1</td>\n",
       "      <td>1</td>\n",
       "      <td>1199</td>\n",
       "      <td>5</td>\n",
       "      <td>30</td>\n",
       "      <td>1970</td>\n",
       "    </tr>\n",
       "  </tbody>\n",
       "</table>\n",
       "</div>"
      ],
      "text/plain": [
       "   Column1  car_name  car_prices_in_rupee kms_driven  fuel_type  transmission  \\\n",
       "0        0       426            1003000.0     86226           1             1   \n",
       "1        1       509            1283000.0     13248           4             0   \n",
       "2        2       290            1640000.0     60343           4             0   \n",
       "3        3       911             777000.0     26696           4             0   \n",
       "4        4      1093             515000.0     69414           4             1   \n",
       "\n",
       "   ownership engine Seats  company_name  manufacture_year  \n",
       "0          1   1956     5            12              1970  \n",
       "1          1   1330     5            26              1970  \n",
       "2          1   2494     5            29              1970  \n",
       "3          1   1199     5             8              1970  \n",
       "4          1   1199     5            30              1970  "
      ]
     },
     "execution_count": 266,
     "metadata": {},
     "output_type": "execute_result"
    }
   ],
   "source": [
    "dataset.head(5)"
   ]
  },
  {
   "cell_type": "markdown",
   "id": "05cc5bb0",
   "metadata": {},
   "source": [
    "# removing outliners for each column\n",
    "if have more outliners dont remove it ,itwill loose data"
   ]
  },
  {
   "cell_type": "code",
   "execution_count": 267,
   "id": "ccc14f7d",
   "metadata": {},
   "outputs": [
    {
     "data": {
      "image/png": "[encoded data removed]",
      "text/plain": [
       "<Figure size 400x300 with 1 Axes>"
      ]
     },
     "metadata": {},
     "output_type": "display_data"
    }
   ],
   "source": [
    "plt.figure(figsize=(4,3))\n",
    "sns.boxplot(x='car_name',data=dataset)\n",
    "plt.show()"
   ]
  },
  {
   "cell_type": "code",
   "execution_count": 268,
   "id": "45f1797b",
   "metadata": {},
   "outputs": [
    {
     "data": {
      "image/png": "[encoded data removed]",
      "text/plain": [
       "<Figure size 400x300 with 1 Axes>"
      ]
     },
     "metadata": {},
     "output_type": "display_data"
    }
   ],
   "source": [
    "plt.figure(figsize=(4,3))\n",
    "sns.boxplot(x='car_prices_in_rupee',data=dataset)\n",
    "plt.show()"
   ]
  },
  {
   "cell_type": "code",
   "execution_count": 269,
   "id": "3b951482",
   "metadata": {},
   "outputs": [
    {
     "data": {
      "image/png": "[encoded data removed]",
      "text/plain": [
       "<Figure size 640x480 with 1 Axes>"
      ]
     },
     "metadata": {},
     "output_type": "display_data"
    }
   ],
   "source": [
    "\n",
    "sns.boxplot(x='fuel_type',data=dataset)\n",
    "plt.show()"
   ]
  },
  {
   "cell_type": "code",
   "execution_count": 270,
   "id": "825f273f",
   "metadata": {},
   "outputs": [
    {
     "data": {
      "image/png": "[encoded data removed]",
      "text/plain": [
       "<Figure size 640x480 with 1 Axes>"
      ]
     },
     "metadata": {},
     "output_type": "display_data"
    }
   ],
   "source": [
    "sns.boxplot(x='transmission',data=dataset)\n",
    "plt.show()"
   ]
  },
  {
   "cell_type": "code",
   "execution_count": 271,
   "id": "8a34df74",
   "metadata": {},
   "outputs": [
    {
     "data": {
      "image/png": "[encoded data removed]",
      "text/plain": [
       "<Figure size 640x480 with 1 Axes>"
      ]
     },
     "metadata": {},
     "output_type": "display_data"
    }
   ],
   "source": [
    "sns.boxplot(x='manufacture_year',data=dataset)\n",
    "plt.show()"
   ]
  },
  {
   "cell_type": "code",
   "execution_count": 272,
   "id": "c7ac6635",
   "metadata": {},
   "outputs": [
    {
     "data": {
      "image/png": "[encoded data removed]",
      "text/plain": [
       "<Figure size 640x480 with 1 Axes>"
      ]
     },
     "metadata": {},
     "output_type": "display_data"
    }
   ],
   "source": [
    "sns.boxplot(x='ownership',data=dataset)\n",
    "plt.show()"
   ]
  },
  {
   "cell_type": "code",
   "execution_count": null,
   "id": "44349f59",
   "metadata": {},
   "outputs": [],
   "source": [
    "#removing outliers for ownership \n",
    "#outliers if=>numerical data -->if you want, remove it .else if categorical data->dont perform outliers\n",
    "#thats only for example dont remove for ownership when you’re doing actual project just do it for data like engine"
   ]
  },
  {
   "cell_type": "code",
   "execution_count": 273,
   "id": "b29be3f7",
   "metadata": {},
   "outputs": [],
   "source": [
    "q1=  np.quantile(dataset['ownership'],0.25)\n",
    "q3=  np.quantile(dataset['ownership'],0.75)"
   ]
  },
  {
   "cell_type": "code",
   "execution_count": 274,
   "id": "b748fbe7",
   "metadata": {},
   "outputs": [
    {
     "data": {
      "text/plain": [
       "(1.0, 2.0)"
      ]
     },
     "execution_count": 274,
     "metadata": {},
     "output_type": "execute_result"
    }
   ],
   "source": [
    "q1,q3"
   ]
  },
  {
   "cell_type": "code",
   "execution_count": 275,
   "id": "070a9b60",
   "metadata": {},
   "outputs": [],
   "source": [
    "iqr=q3-q1"
   ]
  },
  {
   "cell_type": "code",
   "execution_count": 276,
   "id": "7e8761ba",
   "metadata": {},
   "outputs": [],
   "source": [
    "min_r = q1 -(1.5*iqr)\n",
    "max_r =q3+(1.5*iqr)"
   ]
  },
  {
   "cell_type": "code",
   "execution_count": 277,
   "id": "4088d8fd",
   "metadata": {},
   "outputs": [
    {
     "data": {
      "text/plain": [
       "(-0.5, 3.5)"
      ]
     },
     "execution_count": 277,
     "metadata": {},
     "output_type": "execute_result"
    }
   ],
   "source": [
    "min_r,max_r"
   ]
  },
  {
   "cell_type": "code",
   "execution_count": 278,
   "id": "77098bf0",
   "metadata": {},
   "outputs": [
    {
     "data": {
      "text/html": [
       "<div>\n",
       "<style scoped>\n",
       "    .dataframe tbody tr th:only-of-type {\n",
       "        vertical-align: middle;\n",
       "    }\n",
       "\n",
       "    .dataframe tbody tr th {\n",
       "        vertical-align: top;\n",
       "    }\n",
       "\n",
       "    .dataframe thead th {\n",
       "        text-align: right;\n",
       "    }\n",
       "</style>\n",
       "<table border=\"1\" class=\"dataframe\">\n",
       "  <thead>\n",
       "    <tr style=\"text-align: right;\">\n",
       "      <th></th>\n",
       "      <th>Column1</th>\n",
       "      <th>car_name</th>\n",
       "      <th>car_prices_in_rupee</th>\n",
       "      <th>kms_driven</th>\n",
       "      <th>fuel_type</th>\n",
       "      <th>transmission</th>\n",
       "      <th>ownership</th>\n",
       "      <th>engine</th>\n",
       "      <th>Seats</th>\n",
       "      <th>company_name</th>\n",
       "      <th>manufacture_year</th>\n",
       "    </tr>\n",
       "  </thead>\n",
       "  <tbody>\n",
       "    <tr>\n",
       "      <th>0</th>\n",
       "      <td>0</td>\n",
       "      <td>426</td>\n",
       "      <td>1003000.0</td>\n",
       "      <td>86226</td>\n",
       "      <td>1</td>\n",
       "      <td>1</td>\n",
       "      <td>1</td>\n",
       "      <td>1956</td>\n",
       "      <td>5</td>\n",
       "      <td>12</td>\n",
       "      <td>1970</td>\n",
       "    </tr>\n",
       "    <tr>\n",
       "      <th>1</th>\n",
       "      <td>1</td>\n",
       "      <td>509</td>\n",
       "      <td>1283000.0</td>\n",
       "      <td>13248</td>\n",
       "      <td>4</td>\n",
       "      <td>0</td>\n",
       "      <td>1</td>\n",
       "      <td>1330</td>\n",
       "      <td>5</td>\n",
       "      <td>26</td>\n",
       "      <td>1970</td>\n",
       "    </tr>\n",
       "    <tr>\n",
       "      <th>2</th>\n",
       "      <td>2</td>\n",
       "      <td>290</td>\n",
       "      <td>1640000.0</td>\n",
       "      <td>60343</td>\n",
       "      <td>4</td>\n",
       "      <td>0</td>\n",
       "      <td>1</td>\n",
       "      <td>2494</td>\n",
       "      <td>5</td>\n",
       "      <td>29</td>\n",
       "      <td>1970</td>\n",
       "    </tr>\n",
       "    <tr>\n",
       "      <th>3</th>\n",
       "      <td>3</td>\n",
       "      <td>911</td>\n",
       "      <td>777000.0</td>\n",
       "      <td>26696</td>\n",
       "      <td>4</td>\n",
       "      <td>0</td>\n",
       "      <td>1</td>\n",
       "      <td>1199</td>\n",
       "      <td>5</td>\n",
       "      <td>8</td>\n",
       "      <td>1970</td>\n",
       "    </tr>\n",
       "    <tr>\n",
       "      <th>4</th>\n",
       "      <td>4</td>\n",
       "      <td>1093</td>\n",
       "      <td>515000.0</td>\n",
       "      <td>69414</td>\n",
       "      <td>4</td>\n",
       "      <td>1</td>\n",
       "      <td>1</td>\n",
       "      <td>1199</td>\n",
       "      <td>5</td>\n",
       "      <td>30</td>\n",
       "      <td>1970</td>\n",
       "    </tr>\n",
       "    <tr>\n",
       "      <th>...</th>\n",
       "      <td>...</td>\n",
       "      <td>...</td>\n",
       "      <td>...</td>\n",
       "      <td>...</td>\n",
       "      <td>...</td>\n",
       "      <td>...</td>\n",
       "      <td>...</td>\n",
       "      <td>...</td>\n",
       "      <td>...</td>\n",
       "      <td>...</td>\n",
       "      <td>...</td>\n",
       "    </tr>\n",
       "    <tr>\n",
       "      <th>5507</th>\n",
       "      <td>5507</td>\n",
       "      <td>1679</td>\n",
       "      <td>2890000.0</td>\n",
       "      <td>45000</td>\n",
       "      <td>1</td>\n",
       "      <td>0</td>\n",
       "      <td>1</td>\n",
       "      <td>2995</td>\n",
       "      <td>7</td>\n",
       "      <td>1</td>\n",
       "      <td>1970</td>\n",
       "    </tr>\n",
       "    <tr>\n",
       "      <th>5508</th>\n",
       "      <td>5508</td>\n",
       "      <td>976</td>\n",
       "      <td>6490000.0</td>\n",
       "      <td>29000</td>\n",
       "      <td>4</td>\n",
       "      <td>0</td>\n",
       "      <td>2</td>\n",
       "      <td>1968</td>\n",
       "      <td>5</td>\n",
       "      <td>1</td>\n",
       "      <td>1970</td>\n",
       "    </tr>\n",
       "    <tr>\n",
       "      <th>5509</th>\n",
       "      <td>5509</td>\n",
       "      <td>1711</td>\n",
       "      <td>1375000.0</td>\n",
       "      <td>90000</td>\n",
       "      <td>1</td>\n",
       "      <td>0</td>\n",
       "      <td>2</td>\n",
       "      <td>2755</td>\n",
       "      <td>5</td>\n",
       "      <td>11</td>\n",
       "      <td>1970</td>\n",
       "    </tr>\n",
       "    <tr>\n",
       "      <th>5510</th>\n",
       "      <td>5510</td>\n",
       "      <td>25</td>\n",
       "      <td>2990000.0</td>\n",
       "      <td>79000</td>\n",
       "      <td>1</td>\n",
       "      <td>0</td>\n",
       "      <td>3</td>\n",
       "      <td>2967</td>\n",
       "      <td>6</td>\n",
       "      <td>1</td>\n",
       "      <td>1970</td>\n",
       "    </tr>\n",
       "    <tr>\n",
       "      <th>5511</th>\n",
       "      <td>5511</td>\n",
       "      <td>13</td>\n",
       "      <td>3190000.0</td>\n",
       "      <td>42000</td>\n",
       "      <td>1</td>\n",
       "      <td>0</td>\n",
       "      <td>2</td>\n",
       "      <td>1991</td>\n",
       "      <td>5</td>\n",
       "      <td>1</td>\n",
       "      <td>1970</td>\n",
       "    </tr>\n",
       "  </tbody>\n",
       "</table>\n",
       "<p>5395 rows × 11 columns</p>\n",
       "</div>"
      ],
      "text/plain": [
       "      Column1  car_name  car_prices_in_rupee kms_driven  fuel_type  \\\n",
       "0           0       426            1003000.0     86226           1   \n",
       "1           1       509            1283000.0     13248           4   \n",
       "2           2       290            1640000.0     60343           4   \n",
       "3           3       911             777000.0     26696           4   \n",
       "4           4      1093             515000.0     69414           4   \n",
       "...       ...       ...                  ...        ...        ...   \n",
       "5507     5507      1679            2890000.0     45000           1   \n",
       "5508     5508       976            6490000.0     29000           4   \n",
       "5509     5509      1711            1375000.0     90000           1   \n",
       "5510     5510        25            2990000.0     79000           1   \n",
       "5511     5511        13            3190000.0     42000           1   \n",
       "\n",
       "      transmission  ownership engine Seats  company_name  manufacture_year  \n",
       "0                1          1   1956     5            12              1970  \n",
       "1                0          1   1330     5            26              1970  \n",
       "2                0          1   2494     5            29              1970  \n",
       "3                0          1   1199     5             8              1970  \n",
       "4                1          1   1199     5            30              1970  \n",
       "...            ...        ...    ...   ...           ...               ...  \n",
       "5507             0          1   2995     7             1              1970  \n",
       "5508             0          2   1968     5             1              1970  \n",
       "5509             0          2   2755     5            11              1970  \n",
       "5510             0          3   2967     6             1              1970  \n",
       "5511             0          2   1991     5             1              1970  \n",
       "\n",
       "[5395 rows x 11 columns]"
      ]
     },
     "execution_count": 278,
     "metadata": {},
     "output_type": "execute_result"
    }
   ],
   "source": [
    "dataset[dataset['ownership']<=max_r]"
   ]
  },
  {
   "cell_type": "code",
   "execution_count": 279,
   "id": "b4803177",
   "metadata": {},
   "outputs": [],
   "source": [
    "dataset=dataset[dataset['ownership']<=max_r]"
   ]
  },
  {
   "cell_type": "code",
   "execution_count": 280,
   "id": "c0fa2b6b",
   "metadata": {},
   "outputs": [
    {
     "data": {
      "text/plain": [
       "(5395, 11)"
      ]
     },
     "execution_count": 280,
     "metadata": {},
     "output_type": "execute_result"
    }
   ],
   "source": [
    "dataset.shape #before this clustering in (5465,10)"
   ]
  },
  {
   "cell_type": "code",
   "execution_count": 281,
   "id": "dde8a8db",
   "metadata": {},
   "outputs": [
    {
     "data": {
      "image/png": "[encoded data removed]",
      "text/plain": [
       "<Figure size 640x480 with 1 Axes>"
      ]
     },
     "metadata": {},
     "output_type": "display_data"
    }
   ],
   "source": [
    "sns.boxplot(x='ownership',data=dataset)\n",
    "plt.show() #now we can see it dont has outliers #its only for example dont do it for this data(ownership)"
   ]
  },
  {
   "cell_type": "code",
   "execution_count": 282,
   "id": "4735a53c",
   "metadata": {},
   "outputs": [],
   "source": [
    "#scaling\n",
    "#in supervised Ml scaling will be done only for input data not output data\n",
    "#in nonsupervised ML scaling will done on entire data"
   ]
  },
  {
   "cell_type": "code",
   "execution_count": 283,
   "id": "1159e804",
   "metadata": {},
   "outputs": [
    {
     "data": {
      "text/plain": [
       "array([[-1.73814817, -0.91651733, -0.09950549, ..., -0.35004635,\n",
       "        -0.42700724,  0.        ],\n",
       "       [-1.73751894, -0.77248509,  0.04049931, ..., -0.35004635,\n",
       "         1.29529633,  0.        ],\n",
       "       [-1.7368897 , -1.15252195,  0.21900542, ..., -0.35004635,\n",
       "         1.66436139,  0.        ],\n",
       "       ...,\n",
       "       [ 1.72830447,  1.31337931,  0.08650088, ..., -0.35004635,\n",
       "        -0.55002892,  0.        ],\n",
       "       [ 1.72893371, -1.61238391,  0.89402854, ...,  1.03651758,\n",
       "        -1.78024576,  0.        ],\n",
       "       [ 1.72956294, -1.63320784,  0.99403196, ..., -0.35004635,\n",
       "        -1.78024576,  0.        ]])"
      ]
     },
     "execution_count": 283,
     "metadata": {},
     "output_type": "execute_result"
    }
   ],
   "source": [
    "ss = StandardScaler()\n",
    "ss.fit_transform(dataset)"
   ]
  },
  {
   "cell_type": "code",
   "execution_count": 284,
   "id": "b840d3be",
   "metadata": {},
   "outputs": [
    {
     "data": {
      "text/html": [
       "<div>\n",
       "<style scoped>\n",
       "    .dataframe tbody tr th:only-of-type {\n",
       "        vertical-align: middle;\n",
       "    }\n",
       "\n",
       "    .dataframe tbody tr th {\n",
       "        vertical-align: top;\n",
       "    }\n",
       "\n",
       "    .dataframe thead th {\n",
       "        text-align: right;\n",
       "    }\n",
       "</style>\n",
       "<table border=\"1\" class=\"dataframe\">\n",
       "  <thead>\n",
       "    <tr style=\"text-align: right;\">\n",
       "      <th></th>\n",
       "      <th>Column1</th>\n",
       "      <th>car_name</th>\n",
       "      <th>car_prices_in_rupee</th>\n",
       "      <th>kms_driven</th>\n",
       "      <th>fuel_type</th>\n",
       "      <th>transmission</th>\n",
       "      <th>ownership</th>\n",
       "      <th>engine</th>\n",
       "      <th>Seats</th>\n",
       "      <th>company_name</th>\n",
       "      <th>manufacture_year</th>\n",
       "    </tr>\n",
       "  </thead>\n",
       "  <tbody>\n",
       "    <tr>\n",
       "      <th>0</th>\n",
       "      <td>-1.738148</td>\n",
       "      <td>-0.916517</td>\n",
       "      <td>-0.099505</td>\n",
       "      <td>0.569982</td>\n",
       "      <td>-1.066920</td>\n",
       "      <td>0.630610</td>\n",
       "      <td>-0.615128</td>\n",
       "      <td>0.727089</td>\n",
       "      <td>-0.350046</td>\n",
       "      <td>-0.427007</td>\n",
       "      <td>0.0</td>\n",
       "    </tr>\n",
       "    <tr>\n",
       "      <th>1</th>\n",
       "      <td>-1.737519</td>\n",
       "      <td>-0.772485</td>\n",
       "      <td>0.040499</td>\n",
       "      <td>-1.187905</td>\n",
       "      <td>0.920203</td>\n",
       "      <td>-1.585767</td>\n",
       "      <td>-0.615128</td>\n",
       "      <td>-0.352090</td>\n",
       "      <td>-0.350046</td>\n",
       "      <td>1.295296</td>\n",
       "      <td>0.0</td>\n",
       "    </tr>\n",
       "    <tr>\n",
       "      <th>2</th>\n",
       "      <td>-1.736890</td>\n",
       "      <td>-1.152522</td>\n",
       "      <td>0.219005</td>\n",
       "      <td>-0.053485</td>\n",
       "      <td>0.920203</td>\n",
       "      <td>-1.585767</td>\n",
       "      <td>-0.615128</td>\n",
       "      <td>1.654563</td>\n",
       "      <td>-0.350046</td>\n",
       "      <td>1.664361</td>\n",
       "      <td>0.0</td>\n",
       "    </tr>\n",
       "    <tr>\n",
       "      <th>3</th>\n",
       "      <td>-1.736260</td>\n",
       "      <td>-0.074883</td>\n",
       "      <td>-0.212509</td>\n",
       "      <td>-0.863971</td>\n",
       "      <td>0.920203</td>\n",
       "      <td>-1.585767</td>\n",
       "      <td>-0.615128</td>\n",
       "      <td>-0.577925</td>\n",
       "      <td>-0.350046</td>\n",
       "      <td>-0.919094</td>\n",
       "      <td>0.0</td>\n",
       "    </tr>\n",
       "    <tr>\n",
       "      <th>4</th>\n",
       "      <td>-1.735631</td>\n",
       "      <td>0.240947</td>\n",
       "      <td>-0.343514</td>\n",
       "      <td>0.165016</td>\n",
       "      <td>0.920203</td>\n",
       "      <td>0.630610</td>\n",
       "      <td>-0.615128</td>\n",
       "      <td>-0.577925</td>\n",
       "      <td>-0.350046</td>\n",
       "      <td>1.787383</td>\n",
       "      <td>0.0</td>\n",
       "    </tr>\n",
       "    <tr>\n",
       "      <th>...</th>\n",
       "      <td>...</td>\n",
       "      <td>...</td>\n",
       "      <td>...</td>\n",
       "      <td>...</td>\n",
       "      <td>...</td>\n",
       "      <td>...</td>\n",
       "      <td>...</td>\n",
       "      <td>...</td>\n",
       "      <td>...</td>\n",
       "      <td>...</td>\n",
       "      <td>...</td>\n",
       "    </tr>\n",
       "    <tr>\n",
       "      <th>5390</th>\n",
       "      <td>1.727046</td>\n",
       "      <td>1.257849</td>\n",
       "      <td>0.844027</td>\n",
       "      <td>-0.423066</td>\n",
       "      <td>-1.066920</td>\n",
       "      <td>-1.585767</td>\n",
       "      <td>-0.615128</td>\n",
       "      <td>2.518252</td>\n",
       "      <td>2.423082</td>\n",
       "      <td>-1.780246</td>\n",
       "      <td>0.0</td>\n",
       "    </tr>\n",
       "    <tr>\n",
       "      <th>5391</th>\n",
       "      <td>1.727675</td>\n",
       "      <td>0.037913</td>\n",
       "      <td>2.644088</td>\n",
       "      <td>-0.808472</td>\n",
       "      <td>0.920203</td>\n",
       "      <td>-1.585767</td>\n",
       "      <td>1.030195</td>\n",
       "      <td>0.747777</td>\n",
       "      <td>-0.350046</td>\n",
       "      <td>-1.780246</td>\n",
       "      <td>0.0</td>\n",
       "    </tr>\n",
       "    <tr>\n",
       "      <th>5392</th>\n",
       "      <td>1.728304</td>\n",
       "      <td>1.313379</td>\n",
       "      <td>0.086501</td>\n",
       "      <td>0.660889</td>\n",
       "      <td>-1.066920</td>\n",
       "      <td>-1.585767</td>\n",
       "      <td>1.030195</td>\n",
       "      <td>2.104509</td>\n",
       "      <td>-0.350046</td>\n",
       "      <td>-0.550029</td>\n",
       "      <td>0.0</td>\n",
       "    </tr>\n",
       "    <tr>\n",
       "      <th>5393</th>\n",
       "      <td>1.728934</td>\n",
       "      <td>-1.612384</td>\n",
       "      <td>0.894029</td>\n",
       "      <td>0.395922</td>\n",
       "      <td>-1.066920</td>\n",
       "      <td>-1.585767</td>\n",
       "      <td>2.675519</td>\n",
       "      <td>2.469982</td>\n",
       "      <td>1.036518</td>\n",
       "      <td>-1.780246</td>\n",
       "      <td>0.0</td>\n",
       "    </tr>\n",
       "    <tr>\n",
       "      <th>5394</th>\n",
       "      <td>1.729563</td>\n",
       "      <td>-1.633208</td>\n",
       "      <td>0.994032</td>\n",
       "      <td>-0.495330</td>\n",
       "      <td>-1.066920</td>\n",
       "      <td>-1.585767</td>\n",
       "      <td>1.030195</td>\n",
       "      <td>0.787427</td>\n",
       "      <td>-0.350046</td>\n",
       "      <td>-1.780246</td>\n",
       "      <td>0.0</td>\n",
       "    </tr>\n",
       "  </tbody>\n",
       "</table>\n",
       "<p>5395 rows × 11 columns</p>\n",
       "</div>"
      ],
      "text/plain": [
       "       Column1  car_name  car_prices_in_rupee  kms_driven  fuel_type  \\\n",
       "0    -1.738148 -0.916517            -0.099505    0.569982  -1.066920   \n",
       "1    -1.737519 -0.772485             0.040499   -1.187905   0.920203   \n",
       "2    -1.736890 -1.152522             0.219005   -0.053485   0.920203   \n",
       "3    -1.736260 -0.074883            -0.212509   -0.863971   0.920203   \n",
       "4    -1.735631  0.240947            -0.343514    0.165016   0.920203   \n",
       "...        ...       ...                  ...         ...        ...   \n",
       "5390  1.727046  1.257849             0.844027   -0.423066  -1.066920   \n",
       "5391  1.727675  0.037913             2.644088   -0.808472   0.920203   \n",
       "5392  1.728304  1.313379             0.086501    0.660889  -1.066920   \n",
       "5393  1.728934 -1.612384             0.894029    0.395922  -1.066920   \n",
       "5394  1.729563 -1.633208             0.994032   -0.495330  -1.066920   \n",
       "\n",
       "      transmission  ownership    engine     Seats  company_name  \\\n",
       "0         0.630610  -0.615128  0.727089 -0.350046     -0.427007   \n",
       "1        -1.585767  -0.615128 -0.352090 -0.350046      1.295296   \n",
       "2        -1.585767  -0.615128  1.654563 -0.350046      1.664361   \n",
       "3        -1.585767  -0.615128 -0.577925 -0.350046     -0.919094   \n",
       "4         0.630610  -0.615128 -0.577925 -0.350046      1.787383   \n",
       "...            ...        ...       ...       ...           ...   \n",
       "5390     -1.585767  -0.615128  2.518252  2.423082     -1.780246   \n",
       "5391     -1.585767   1.030195  0.747777 -0.350046     -1.780246   \n",
       "5392     -1.585767   1.030195  2.104509 -0.350046     -0.550029   \n",
       "5393     -1.585767   2.675519  2.469982  1.036518     -1.780246   \n",
       "5394     -1.585767   1.030195  0.787427 -0.350046     -1.780246   \n",
       "\n",
       "      manufacture_year  \n",
       "0                  0.0  \n",
       "1                  0.0  \n",
       "2                  0.0  \n",
       "3                  0.0  \n",
       "4                  0.0  \n",
       "...                ...  \n",
       "5390               0.0  \n",
       "5391               0.0  \n",
       "5392               0.0  \n",
       "5393               0.0  \n",
       "5394               0.0  \n",
       "\n",
       "[5395 rows x 11 columns]"
      ]
     },
     "execution_count": 284,
     "metadata": {},
     "output_type": "execute_result"
    }
   ],
   "source": [
    "pd.DataFrame(ss.fit_transform(dataset),columns=dataset.columns)"
   ]
  },
  {
   "cell_type": "code",
   "execution_count": 285,
   "id": "a1cca206",
   "metadata": {},
   "outputs": [],
   "source": [
    "new_data=pd.DataFrame(ss.fit_transform(dataset),columns=dataset.columns)"
   ]
  },
  {
   "cell_type": "code",
   "execution_count": 286,
   "id": "60e1e3b5",
   "metadata": {},
   "outputs": [
    {
     "data": {
      "text/html": [
       "<div>\n",
       "<style scoped>\n",
       "    .dataframe tbody tr th:only-of-type {\n",
       "        vertical-align: middle;\n",
       "    }\n",
       "\n",
       "    .dataframe tbody tr th {\n",
       "        vertical-align: top;\n",
       "    }\n",
       "\n",
       "    .dataframe thead th {\n",
       "        text-align: right;\n",
       "    }\n",
       "</style>\n",
       "<table border=\"1\" class=\"dataframe\">\n",
       "  <thead>\n",
       "    <tr style=\"text-align: right;\">\n",
       "      <th></th>\n",
       "      <th>Column1</th>\n",
       "      <th>car_name</th>\n",
       "      <th>car_prices_in_rupee</th>\n",
       "      <th>kms_driven</th>\n",
       "      <th>fuel_type</th>\n",
       "      <th>transmission</th>\n",
       "      <th>ownership</th>\n",
       "      <th>engine</th>\n",
       "      <th>Seats</th>\n",
       "      <th>company_name</th>\n",
       "      <th>manufacture_year</th>\n",
       "    </tr>\n",
       "  </thead>\n",
       "  <tbody>\n",
       "    <tr>\n",
       "      <th>0</th>\n",
       "      <td>-1.738148</td>\n",
       "      <td>-0.916517</td>\n",
       "      <td>-0.099505</td>\n",
       "      <td>0.569982</td>\n",
       "      <td>-1.066920</td>\n",
       "      <td>0.630610</td>\n",
       "      <td>-0.615128</td>\n",
       "      <td>0.727089</td>\n",
       "      <td>-0.350046</td>\n",
       "      <td>-0.427007</td>\n",
       "      <td>0.0</td>\n",
       "    </tr>\n",
       "    <tr>\n",
       "      <th>1</th>\n",
       "      <td>-1.737519</td>\n",
       "      <td>-0.772485</td>\n",
       "      <td>0.040499</td>\n",
       "      <td>-1.187905</td>\n",
       "      <td>0.920203</td>\n",
       "      <td>-1.585767</td>\n",
       "      <td>-0.615128</td>\n",
       "      <td>-0.352090</td>\n",
       "      <td>-0.350046</td>\n",
       "      <td>1.295296</td>\n",
       "      <td>0.0</td>\n",
       "    </tr>\n",
       "    <tr>\n",
       "      <th>2</th>\n",
       "      <td>-1.736890</td>\n",
       "      <td>-1.152522</td>\n",
       "      <td>0.219005</td>\n",
       "      <td>-0.053485</td>\n",
       "      <td>0.920203</td>\n",
       "      <td>-1.585767</td>\n",
       "      <td>-0.615128</td>\n",
       "      <td>1.654563</td>\n",
       "      <td>-0.350046</td>\n",
       "      <td>1.664361</td>\n",
       "      <td>0.0</td>\n",
       "    </tr>\n",
       "    <tr>\n",
       "      <th>3</th>\n",
       "      <td>-1.736260</td>\n",
       "      <td>-0.074883</td>\n",
       "      <td>-0.212509</td>\n",
       "      <td>-0.863971</td>\n",
       "      <td>0.920203</td>\n",
       "      <td>-1.585767</td>\n",
       "      <td>-0.615128</td>\n",
       "      <td>-0.577925</td>\n",
       "      <td>-0.350046</td>\n",
       "      <td>-0.919094</td>\n",
       "      <td>0.0</td>\n",
       "    </tr>\n",
       "    <tr>\n",
       "      <th>4</th>\n",
       "      <td>-1.735631</td>\n",
       "      <td>0.240947</td>\n",
       "      <td>-0.343514</td>\n",
       "      <td>0.165016</td>\n",
       "      <td>0.920203</td>\n",
       "      <td>0.630610</td>\n",
       "      <td>-0.615128</td>\n",
       "      <td>-0.577925</td>\n",
       "      <td>-0.350046</td>\n",
       "      <td>1.787383</td>\n",
       "      <td>0.0</td>\n",
       "    </tr>\n",
       "  </tbody>\n",
       "</table>\n",
       "</div>"
      ],
      "text/plain": [
       "    Column1  car_name  car_prices_in_rupee  kms_driven  fuel_type  \\\n",
       "0 -1.738148 -0.916517            -0.099505    0.569982  -1.066920   \n",
       "1 -1.737519 -0.772485             0.040499   -1.187905   0.920203   \n",
       "2 -1.736890 -1.152522             0.219005   -0.053485   0.920203   \n",
       "3 -1.736260 -0.074883            -0.212509   -0.863971   0.920203   \n",
       "4 -1.735631  0.240947            -0.343514    0.165016   0.920203   \n",
       "\n",
       "   transmission  ownership    engine     Seats  company_name  manufacture_year  \n",
       "0      0.630610  -0.615128  0.727089 -0.350046     -0.427007               0.0  \n",
       "1     -1.585767  -0.615128 -0.352090 -0.350046      1.295296               0.0  \n",
       "2     -1.585767  -0.615128  1.654563 -0.350046      1.664361               0.0  \n",
       "3     -1.585767  -0.615128 -0.577925 -0.350046     -0.919094               0.0  \n",
       "4      0.630610  -0.615128 -0.577925 -0.350046      1.787383               0.0  "
      ]
     },
     "execution_count": 286,
     "metadata": {},
     "output_type": "execute_result"
    }
   ],
   "source": [
    "new_data.head(5)"
   ]
  },
  {
   "cell_type": "code",
   "execution_count": null,
   "id": "9cb267dc",
   "metadata": {},
   "outputs": [],
   "source": []
  }
 ],
 "metadata": {
  "kernelspec": {
   "display_name": "Python 3 (ipykernel)",
   "language": "python",
   "name": "python3"
  },
  "language_info": {
   "codemirror_mode": {
    "name": "ipython",
    "version": 3
   },
   "file_extension": ".py",
   "mimetype": "text/x-python",
   "name": "python",
   "nbconvert_exporter": "python",
   "pygments_lexer": "ipython3",
   "version": "3.11.5"
  }
 },
 "nbformat": 4,
 "nbformat_minor": 5
}
